{
 "cells": [
  {
   "cell_type": "code",
   "execution_count": 1,
   "metadata": {
    "id": "o7yYtabd_WX5"
   },
   "outputs": [],
   "source": [
    "import os\n",
    "import tempfile\n",
    "\n",
    "import matplotlib as mpl\n",
    "import matplotlib.pyplot as plt\n",
    "import numpy as np\n",
    "import pandas as pd\n",
    "import seaborn as sns\n",
    "\n",
    "import sklearn\n",
    "from sklearn.metrics import confusion_matrix\n",
    "from sklearn.model_selection import train_test_split\n",
    "from sklearn.preprocessing import StandardScaler,RobustScaler\n",
    "import random\n",
    "\n",
    "from sklearn.metrics import recall_score\n",
    "from scipy import stats\n",
    "#from catboost import CatBoostClassifier, EShapCalcType, EFeaturesSelectionAlgorithm, Pool\n",
    "from sklearn.metrics import recall_score, log_loss\n",
    "\n",
    "import collections\n",
    "import operator\n",
    "from collections import OrderedDict\n",
    "from datetime import datetime\n",
    "\n",
    "from sklearn.utils import compute_class_weight\n",
    "from sklearn.metrics import confusion_matrix\n",
    "\n",
    "from catboost import CatBoostClassifier, EShapCalcType, EFeaturesSelectionAlgorithm, Pool\n",
    "\n",
    "from sklearn.metrics import precision_score"
   ]
  },
  {
   "cell_type": "code",
   "execution_count": 2,
   "metadata": {
    "id": "zH3p-Z9U_YDu"
   },
   "outputs": [],
   "source": [
    "mpl.rcParams['figure.figsize'] = (12, 10)\n",
    "colors = plt.rcParams['axes.prop_cycle'].by_key()['color']"
   ]
  },
  {
   "cell_type": "code",
   "execution_count": 3,
   "metadata": {
    "id": "xruTLbZM_Z6U"
   },
   "outputs": [],
   "source": [
    "data = pd.read_csv(r'D:\\\\Champ2022\\\\train_dataset_train.csv')\n",
    "test = pd.read_csv(r'D:\\\\Champ2022\\\\test_dataset_test.csv')"
   ]
  },
  {
   "cell_type": "code",
   "execution_count": 7,
   "metadata": {
    "colab": {
     "base_uri": "https://localhost:8080/"
    },
    "id": "_EtCg7E94KvJ",
    "outputId": "d766ce0a-75a3-4988-89fb-c33f8cf3fb71"
   },
   "outputs": [
    {
     "name": "stdout",
     "output_type": "stream",
     "text": [
      "age_indicator 159123\n",
      "month_id 200000\n",
      "student_id 200000\n",
      "program_id 200000\n",
      "carts_created_at 200000\n",
      "spent_time_total 86309\n",
      "spent_time_to_complete_hw 42467\n",
      "completed_hw 97599\n",
      "failed_hw 97599\n",
      "reworked_hw 97599\n",
      "interacted_hw 97599\n",
      "avg_hw_mark 44496\n",
      "test_with_good_mark 97599\n",
      "test_with_great_mark 97599\n",
      "webinars 97599\n",
      "avg_quiz_result 16259\n",
      "notes 97599\n",
      "hw_leader 97599\n",
      "lessons 97599\n",
      "activity 97599\n",
      "bought_d1 200000\n",
      "bought_d2 200000\n",
      "bought_d3 200000\n",
      "bought_d4 200000\n",
      "bought_d5 200000\n",
      "bought_avg_duration 10359\n",
      "payment_type 200000\n",
      "promo 200000\n",
      "price 200000\n",
      "communication_type 198595\n",
      "auto_payment 200000\n",
      "ABC 200000\n",
      "city 13592\n",
      "country 12944\n",
      "gender 199940\n",
      "speed_recall 21880\n",
      "os 77374\n",
      "browser 77374\n",
      "platform 77361\n",
      "m_avg_talk_duration 51537\n",
      "m_avg_duration 45764\n",
      "m_missed_calls 51537\n",
      "m_total_calls 51537\n",
      "m_was_conversations 51537\n",
      "m_total_duration 51537\n",
      "p_avg_talk_duration 16453\n",
      "p_avg_duration 13488\n",
      "p_missed_calls 16453\n",
      "p_total_calls 16453\n",
      "p_was_conversations 16453\n",
      "p_total_duration 16453\n",
      "support_feedback_avg 37557\n",
      "feedback_avg_d1 48496\n",
      "feedback_avg_d2 14805\n",
      "feedback_avg_d3 17778\n",
      "feedback_avg_d4 25076\n",
      "feedback_avg_d5 15733\n",
      "target 200000\n"
     ]
    }
   ],
   "source": [
    "for i in range(1,len(data.columns)):\n",
    "    print(data.columns[i],data[data[data.columns[i]].notna()].shape[0])"
   ]
  },
  {
   "cell_type": "code",
   "execution_count": 5,
   "metadata": {
    "colab": {
     "base_uri": "https://localhost:8080/"
    },
    "id": "n1K_7oLF4Cl-",
    "outputId": "8c692479-00ca-4b1b-fb08-1fa45a99716d"
   },
   "outputs": [
    {
     "name": "stdout",
     "output_type": "stream",
     "text": [
      "age_indicator 67548\n",
      "month_id 84997\n",
      "student_id 84997\n",
      "program_id 84997\n",
      "carts_created_at 84997\n",
      "spent_time_total 36687\n",
      "spent_time_to_complete_hw 18046\n",
      "completed_hw 41481\n",
      "failed_hw 41481\n",
      "reworked_hw 41481\n",
      "interacted_hw 41481\n",
      "avg_hw_mark 18909\n",
      "test_with_good_mark 41481\n",
      "test_with_great_mark 41481\n",
      "webinars 41481\n",
      "avg_quiz_result 6954\n",
      "notes 41481\n",
      "hw_leader 41481\n",
      "lessons 41481\n",
      "activity 41481\n",
      "bought_d1 84997\n",
      "bought_d2 84997\n",
      "bought_d3 84997\n",
      "bought_d4 84997\n",
      "bought_d5 84997\n",
      "bought_avg_duration 4277\n",
      "payment_type 84997\n",
      "promo 84997\n",
      "price 84997\n",
      "communication_type 84361\n",
      "auto_payment 84997\n",
      "ABC 84997\n",
      "city 5669\n",
      "country 5423\n",
      "gender 84978\n",
      "speed_recall 9283\n",
      "os 33026\n",
      "browser 33026\n",
      "platform 33018\n",
      "m_avg_talk_duration 21908\n",
      "m_avg_duration 19375\n",
      "m_missed_calls 21908\n",
      "m_total_calls 21908\n",
      "m_was_conversations 21908\n",
      "m_total_duration 21908\n",
      "p_avg_talk_duration 7129\n",
      "p_avg_duration 5867\n",
      "p_missed_calls 7129\n",
      "p_total_calls 7129\n",
      "p_was_conversations 7129\n",
      "p_total_duration 7129\n",
      "support_feedback_avg 15749\n",
      "feedback_avg_d1 20650\n",
      "feedback_avg_d2 6237\n",
      "feedback_avg_d3 7640\n",
      "feedback_avg_d4 10678\n",
      "feedback_avg_d5 6756\n"
     ]
    }
   ],
   "source": [
    "for i in range(1,len(test.columns)):\n",
    "    print(test.columns[i],test[test[test.columns[i]].notna()].shape[0])"
   ]
  },
  {
   "cell_type": "markdown",
   "metadata": {
    "id": "D_LjKVEz7Q94"
   },
   "source": [
    "# FILLNA"
   ]
  },
  {
   "cell_type": "code",
   "execution_count": 4,
   "metadata": {
    "id": "ltVJpPdu7SNo"
   },
   "outputs": [],
   "source": [
    "data['age_indicator'] = data['age_indicator'].fillna(data.age_indicator.median())\n",
    "test['age_indicator'] = test['age_indicator'].fillna(test.age_indicator.median())\n",
    "\n",
    "test['gender'] = test['gender'].fillna(3) \n",
    "data['gender'] = data['gender'].fillna(3) \n",
    "\n",
    "data['communication_type'] = data['communication_type'].fillna('dont') \n",
    "test['communication_type'] = test['communication_type'].fillna('dont') \n",
    "\n",
    "data['os'] = data['os'].fillna('dont') \n",
    "test['os'] = test['os'].fillna('dont') "
   ]
  },
  {
   "cell_type": "code",
   "execution_count": 5,
   "metadata": {
    "colab": {
     "base_uri": "https://localhost:8080/"
    },
    "id": "VHDISrYnoBXu",
    "outputId": "3f15c1d5-45fd-4363-f303-b8fd538ec7a4"
   },
   "outputs": [
    {
     "data": {
      "text/plain": [
       "((200000, 59), (84997, 58))"
      ]
     },
     "execution_count": 5,
     "metadata": {},
     "output_type": "execute_result"
    }
   ],
   "source": [
    "data.shape, test.shape"
   ]
  },
  {
   "cell_type": "code",
   "execution_count": 8,
   "metadata": {
    "colab": {
     "base_uri": "https://localhost:8080/",
     "height": 205
    },
    "id": "-Uk0wQMAcqLG",
    "outputId": "7e87dc74-b02d-4115-92e2-a6b2762e4fdc"
   },
   "outputs": [
    {
     "data": {
      "text/html": [
       "<div>\n",
       "<style scoped>\n",
       "    .dataframe tbody tr th:only-of-type {\n",
       "        vertical-align: middle;\n",
       "    }\n",
       "\n",
       "    .dataframe tbody tr th {\n",
       "        vertical-align: top;\n",
       "    }\n",
       "\n",
       "    .dataframe thead th {\n",
       "        text-align: right;\n",
       "    }\n",
       "</style>\n",
       "<table border=\"1\" class=\"dataframe\">\n",
       "  <thead>\n",
       "    <tr style=\"text-align: right;\">\n",
       "      <th></th>\n",
       "      <th>id</th>\n",
       "      <th>age_indicator</th>\n",
       "      <th>month_id</th>\n",
       "      <th>student_id</th>\n",
       "      <th>program_id</th>\n",
       "      <th>carts_created_at</th>\n",
       "      <th>spent_time_total</th>\n",
       "      <th>spent_time_to_complete_hw</th>\n",
       "      <th>completed_hw</th>\n",
       "      <th>failed_hw</th>\n",
       "      <th>...</th>\n",
       "      <th>p_total_calls</th>\n",
       "      <th>p_was_conversations</th>\n",
       "      <th>p_total_duration</th>\n",
       "      <th>support_feedback_avg</th>\n",
       "      <th>feedback_avg_d1</th>\n",
       "      <th>feedback_avg_d2</th>\n",
       "      <th>feedback_avg_d3</th>\n",
       "      <th>feedback_avg_d4</th>\n",
       "      <th>feedback_avg_d5</th>\n",
       "      <th>target</th>\n",
       "    </tr>\n",
       "  </thead>\n",
       "  <tbody>\n",
       "    <tr>\n",
       "      <th>0</th>\n",
       "      <td>15182</td>\n",
       "      <td>32.0</td>\n",
       "      <td>9/30/2020</td>\n",
       "      <td>6694527</td>\n",
       "      <td>1469</td>\n",
       "      <td>8/26/2020</td>\n",
       "      <td>163.0</td>\n",
       "      <td>0.0</td>\n",
       "      <td>1.0</td>\n",
       "      <td>0.0</td>\n",
       "      <td>...</td>\n",
       "      <td>NaN</td>\n",
       "      <td>NaN</td>\n",
       "      <td>NaN</td>\n",
       "      <td>4.0</td>\n",
       "      <td>5.0</td>\n",
       "      <td>NaN</td>\n",
       "      <td>NaN</td>\n",
       "      <td>NaN</td>\n",
       "      <td>NaN</td>\n",
       "      <td>0</td>\n",
       "    </tr>\n",
       "    <tr>\n",
       "      <th>1</th>\n",
       "      <td>89385</td>\n",
       "      <td>20.0</td>\n",
       "      <td>6/30/2021</td>\n",
       "      <td>6712877</td>\n",
       "      <td>1392</td>\n",
       "      <td>8/5/2020</td>\n",
       "      <td>NaN</td>\n",
       "      <td>NaN</td>\n",
       "      <td>NaN</td>\n",
       "      <td>NaN</td>\n",
       "      <td>...</td>\n",
       "      <td>NaN</td>\n",
       "      <td>NaN</td>\n",
       "      <td>NaN</td>\n",
       "      <td>NaN</td>\n",
       "      <td>NaN</td>\n",
       "      <td>NaN</td>\n",
       "      <td>NaN</td>\n",
       "      <td>NaN</td>\n",
       "      <td>NaN</td>\n",
       "      <td>0</td>\n",
       "    </tr>\n",
       "  </tbody>\n",
       "</table>\n",
       "<p>2 rows × 59 columns</p>\n",
       "</div>"
      ],
      "text/plain": [
       "      id  age_indicator   month_id  student_id  program_id carts_created_at  \\\n",
       "0  15182           32.0  9/30/2020     6694527        1469        8/26/2020   \n",
       "1  89385           20.0  6/30/2021     6712877        1392         8/5/2020   \n",
       "\n",
       "   spent_time_total  spent_time_to_complete_hw  completed_hw  failed_hw  ...  \\\n",
       "0             163.0                        0.0           1.0        0.0  ...   \n",
       "1               NaN                        NaN           NaN        NaN  ...   \n",
       "\n",
       "   p_total_calls  p_was_conversations  p_total_duration  support_feedback_avg  \\\n",
       "0            NaN                  NaN               NaN                   4.0   \n",
       "1            NaN                  NaN               NaN                   NaN   \n",
       "\n",
       "   feedback_avg_d1  feedback_avg_d2  feedback_avg_d3  feedback_avg_d4  \\\n",
       "0              5.0              NaN              NaN              NaN   \n",
       "1              NaN              NaN              NaN              NaN   \n",
       "\n",
       "   feedback_avg_d5  target  \n",
       "0              NaN       0  \n",
       "1              NaN       0  \n",
       "\n",
       "[2 rows x 59 columns]"
      ]
     },
     "execution_count": 8,
     "metadata": {},
     "output_type": "execute_result"
    }
   ],
   "source": [
    "data.head(2)"
   ]
  },
  {
   "cell_type": "code",
   "execution_count": 9,
   "metadata": {
    "colab": {
     "base_uri": "https://localhost:8080/"
    },
    "id": "aSmSueJqczrj",
    "outputId": "1454fd55-99bd-41d3-9ea0-2c7e52c71807"
   },
   "outputs": [
    {
     "data": {
      "text/plain": [
       "array([0, 3, 1, 4, 5, 2], dtype=int64)"
      ]
     },
     "execution_count": 9,
     "metadata": {},
     "output_type": "execute_result"
    }
   ],
   "source": [
    "data.target.unique()"
   ]
  },
  {
   "cell_type": "code",
   "execution_count": 10,
   "metadata": {
    "colab": {
     "base_uri": "https://localhost:8080/",
     "height": 609
    },
    "id": "0WgdxaJrcylz",
    "outputId": "7476632d-3e11-41e1-f0c5-c384115ee2f1"
   },
   "outputs": [
    {
     "data": {
      "text/plain": [
       "<AxesSubplot:>"
      ]
     },
     "execution_count": 10,
     "metadata": {},
     "output_type": "execute_result"
    },
    {
     "data": {
      "image/png": "[encoded data removed]",
      "text/plain": [
       "<Figure size 864x720 with 1 Axes>"
      ]
     },
     "metadata": {
      "needs_background": "light"
     },
     "output_type": "display_data"
    }
   ],
   "source": [
    "data.target.hist()"
   ]
  },
  {
   "cell_type": "code",
   "execution_count": 11,
   "metadata": {
    "id": "iF4rSqJRyOGE"
   },
   "outputs": [],
   "source": [
    "columns_test = []\n",
    "for col in test.columns:\n",
    "    if test[~test[col].isnull()].shape[0] == 84997:\n",
    "        columns_test.append(col)\n",
    "\n",
    "columns_test\n",
    "columns_test_data = columns_test + ['target']"
   ]
  },
  {
   "cell_type": "code",
   "execution_count": 12,
   "metadata": {
    "colab": {
     "base_uri": "https://localhost:8080/"
    },
    "id": "_cb1wGU77ztl",
    "outputId": "7dba4e47-e86c-4b3f-dfa4-3baf5d96b0fd"
   },
   "outputs": [
    {
     "data": {
      "text/plain": [
       "['id',\n",
       " 'age_indicator',\n",
       " 'month_id',\n",
       " 'student_id',\n",
       " 'program_id',\n",
       " 'carts_created_at',\n",
       " 'bought_d1',\n",
       " 'bought_d2',\n",
       " 'bought_d3',\n",
       " 'bought_d4',\n",
       " 'bought_d5',\n",
       " 'payment_type',\n",
       " 'promo',\n",
       " 'price',\n",
       " 'communication_type',\n",
       " 'auto_payment',\n",
       " 'ABC',\n",
       " 'gender',\n",
       " 'os']"
      ]
     },
     "execution_count": 12,
     "metadata": {},
     "output_type": "execute_result"
    }
   ],
   "source": [
    "columns_test"
   ]
  },
  {
   "cell_type": "code",
   "execution_count": 13,
   "metadata": {
    "colab": {
     "base_uri": "https://localhost:8080/"
    },
    "id": "qHHpKeuu-pF1",
    "outputId": "bae05d89-8d74-4b77-9855-c9cba0af9cd3"
   },
   "outputs": [
    {
     "data": {
      "text/plain": [
       "(200000, 20)"
      ]
     },
     "execution_count": 13,
     "metadata": {},
     "output_type": "execute_result"
    }
   ],
   "source": [
    "data = data[columns_test_data]\n",
    "data.shape"
   ]
  },
  {
   "cell_type": "code",
   "execution_count": 14,
   "metadata": {
    "colab": {
     "base_uri": "https://localhost:8080/"
    },
    "id": "_nyaSRm3Ak2F",
    "outputId": "b6281b5c-f183-43ad-c631-56e070e8e9a2"
   },
   "outputs": [
    {
     "data": {
      "text/plain": [
       "(84997, 19)"
      ]
     },
     "execution_count": 14,
     "metadata": {},
     "output_type": "execute_result"
    }
   ],
   "source": [
    "test = test[columns_test]\n",
    "test.shape"
   ]
  },
  {
   "cell_type": "code",
   "execution_count": null,
   "metadata": {
    "id": "M8EP1DQtYMPA"
   },
   "outputs": [],
   "source": []
  },
  {
   "cell_type": "code",
   "execution_count": 15,
   "metadata": {},
   "outputs": [],
   "source": [
    "import datetime\n",
    "\n",
    "data['month_id'] = data['month_id'].astype('datetime64[ns]')\n",
    "data['year'] = data['month_id'].dt.year\n",
    "data['month_id'] = data['month_id'].dt.month\n",
    "\n",
    "test['month_id'] = test['month_id'].astype('datetime64[ns]')\n",
    "test['year'] = test['month_id'].dt.year\n",
    "test['month_id'] = test['month_id'].dt.month\n",
    "\n",
    "data['carts_created_at'] = data['carts_created_at'].astype('datetime64[ns]')\n",
    "data['year2'] = data['carts_created_at'].dt.year\n",
    "data['carts_created_at'] = data['carts_created_at'].dt.month\n",
    "\n",
    "test['carts_created_at'] = test['carts_created_at'].astype('datetime64[ns]')\n",
    "test['year2'] = test['carts_created_at'].dt.year\n",
    "test['carts_created_at'] = test['carts_created_at'].dt.month\n"
   ]
  },
  {
   "cell_type": "code",
   "execution_count": 16,
   "metadata": {},
   "outputs": [],
   "source": [
    "def Delete_Col(dataset):\n",
    "    dataset = dataset.drop(['id','student_id'],axis=1)\n",
    "    return dataset\n",
    "\n",
    "data = Delete_Col(data)\n",
    "test = Delete_Col(test)"
   ]
  },
  {
   "cell_type": "code",
   "execution_count": 17,
   "metadata": {},
   "outputs": [
    {
     "data": {
      "text/plain": [
       "((200000, 35), (84997, 34))"
      ]
     },
     "execution_count": 17,
     "metadata": {},
     "output_type": "execute_result"
    }
   ],
   "source": [
    "def Get_Dummies(dataset):\n",
    "    dataset = pd.get_dummies(dataset)\n",
    "    return dataset\n",
    "\n",
    "data = Get_Dummies(data)\n",
    "test = Get_Dummies(test)\n",
    "\n",
    "columns_test = list(test.columns)\n",
    "columns_data = list(data.columns)\n",
    "\n",
    "columns = [i for i in columns_data if i in columns_test]\n",
    "columns_data = columns + ['target']\n",
    "data = data[columns_data]\n",
    "test = test[columns]\n",
    "\n",
    "data.shape,test.shape"
   ]
  },
  {
   "cell_type": "markdown",
   "metadata": {},
   "source": [
    "# Y_HAT"
   ]
  },
  {
   "cell_type": "code",
   "execution_count": 18,
   "metadata": {},
   "outputs": [
    {
     "data": {
      "text/plain": [
       "(array([174301.,      0.,      0.,      0.,      0.,      0.,      0.,\n",
       "             0.,      0.,  25699.]),\n",
       " array([0. , 0.1, 0.2, 0.3, 0.4, 0.5, 0.6, 0.7, 0.8, 0.9, 1. ]),\n",
       " <BarContainer object of 10 artists>)"
      ]
     },
     "execution_count": 18,
     "metadata": {},
     "output_type": "execute_result"
    },
    {
     "data": {
      "image/png": "[encoded data removed]",
      "text/plain": [
       "<Figure size 864x720 with 1 Axes>"
      ]
     },
     "metadata": {
      "needs_background": "light"
     },
     "output_type": "display_data"
    }
   ],
   "source": [
    "y_hat_0 = []\n",
    "for i in range(data.shape[0]):\n",
    "    if data.iloc[i,-1] == 0:\n",
    "        y_hat_0.append(0)\n",
    "    else:\n",
    "        y_hat_0.append(1)\n",
    "\n",
    "data['y_hat_0'] = y_hat_0\n",
    "plt.hist(y_hat_0)"
   ]
  },
  {
   "cell_type": "code",
   "execution_count": 19,
   "metadata": {},
   "outputs": [
    {
     "data": {
      "text/plain": [
       "Index(['age_indicator', 'month_id', 'program_id', 'carts_created_at',\n",
       "       'bought_d1', 'bought_d2', 'bought_d3', 'bought_d4', 'bought_d5',\n",
       "       'payment_type', 'price', 'auto_payment', 'gender', 'year', 'year2',\n",
       "       'promo_+', 'promo_-', 'communication_type_dont',\n",
       "       'communication_type_order', 'communication_type_phone',\n",
       "       'communication_type_web', 'ABC_A', 'ABC_B', 'ABC_C', 'ABC_D',\n",
       "       'os_Android', 'os_Chrome OS', 'os_Fedora', 'os_Linux', 'os_Mac OS X',\n",
       "       'os_Ubuntu', 'os_Windows', 'os_dont', 'os_iOS', 'target', 'y_hat_0'],\n",
       "      dtype='object')"
      ]
     },
     "execution_count": 19,
     "metadata": {},
     "output_type": "execute_result"
    }
   ],
   "source": [
    "data.columns"
   ]
  },
  {
   "cell_type": "markdown",
   "metadata": {},
   "source": [
    "# Y_HAT 1"
   ]
  },
  {
   "cell_type": "code",
   "execution_count": 20,
   "metadata": {},
   "outputs": [
    {
     "name": "stderr",
     "output_type": "stream",
     "text": [
      "C:\\Users\\olgaa\\AppData\\Local\\Temp\\ipykernel_15904\\417911368.py:10: SettingWithCopyWarning: \n",
      "A value is trying to be set on a copy of a slice from a DataFrame.\n",
      "Try using .loc[row_indexer,col_indexer] = value instead\n",
      "\n",
      "See the caveats in the documentation: https://pandas.pydata.org/pandas-docs/stable/user_guide/indexing.html#returning-a-view-versus-a-copy\n",
      "  sub_data_1['y_hat_1'] = y_hat_1\n"
     ]
    },
    {
     "data": {
      "text/plain": [
       "(array([13512.,     0.,     0.,     0.,     0.,     0.,     0.,     0.,\n",
       "            0., 12187.]),\n",
       " array([0. , 0.1, 0.2, 0.3, 0.4, 0.5, 0.6, 0.7, 0.8, 0.9, 1. ]),\n",
       " <BarContainer object of 10 artists>)"
      ]
     },
     "execution_count": 20,
     "metadata": {},
     "output_type": "execute_result"
    },
    {
     "data": {
      "image/png": "[encoded data removed]",
      "text/plain": [
       "<Figure size 864x720 with 1 Axes>"
      ]
     },
     "metadata": {
      "needs_background": "light"
     },
     "output_type": "display_data"
    }
   ],
   "source": [
    "sub_data_1 = data.query('target != 0')\n",
    "\n",
    "y_hat_1 = []\n",
    "for i in range(sub_data_1.shape[0]):\n",
    "    if sub_data_1.iloc[i,-2] == 1:\n",
    "        y_hat_1.append(0)\n",
    "    else:\n",
    "        y_hat_1.append(1)\n",
    "\n",
    "sub_data_1['y_hat_1'] = y_hat_1\n",
    "plt.hist(y_hat_1)"
   ]
  },
  {
   "cell_type": "code",
   "execution_count": 21,
   "metadata": {},
   "outputs": [
    {
     "data": {
      "text/plain": [
       "<AxesSubplot:>"
      ]
     },
     "execution_count": 21,
     "metadata": {},
     "output_type": "execute_result"
    },
    {
     "data": {
      "image/png": "[encoded data removed]",
      "text/plain": [
       "<Figure size 864x720 with 1 Axes>"
      ]
     },
     "metadata": {
      "needs_background": "light"
     },
     "output_type": "display_data"
    }
   ],
   "source": [
    "sub_data_2 = sub_data_1.query('target != 1')\n",
    "sub_data_2 = sub_data_2.drop(['y_hat_0'],axis=1)\n",
    "sub_data_2.target.hist()"
   ]
  },
  {
   "cell_type": "code",
   "execution_count": null,
   "metadata": {
    "id": "t4aKz8gvXwju"
   },
   "outputs": [],
   "source": []
  },
  {
   "cell_type": "code",
   "execution_count": 22,
   "metadata": {},
   "outputs": [],
   "source": [
    "y = data[['y_hat_0']]\n",
    "y_sub_2 = sub_data_2[['target']]\n",
    "y_sub_1 = sub_data_1[['y_hat_1']]\n",
    "\n",
    "original_test = test.copy()\n",
    "raw_df = data.copy()"
   ]
  },
  {
   "cell_type": "code",
   "execution_count": 23,
   "metadata": {},
   "outputs": [],
   "source": [
    "sub_data_2 = sub_data_2.drop(['target','y_hat_1'],axis=1).copy()\n",
    "sub_data_1 = sub_data_1.drop(['target'],axis=1).copy()"
   ]
  },
  {
   "cell_type": "code",
   "execution_count": 24,
   "metadata": {
    "colab": {
     "base_uri": "https://localhost:8080/"
    },
    "id": "8lleAnYdKhj0",
    "outputId": "91265078-07e1-4b9a-d38f-c740999e4452"
   },
   "outputs": [],
   "source": [
    "columns_test = list(original_test.columns)\n",
    "columns_data = list(data.columns)\n",
    "\n",
    "columns = [i for i in columns_data if i in columns_test]"
   ]
  },
  {
   "cell_type": "code",
   "execution_count": 25,
   "metadata": {
    "colab": {
     "base_uri": "https://localhost:8080/"
    },
    "id": "VR8pyvTvmkiW",
    "outputId": "c48f08a5-7989-4bf7-f6bd-49f3ba7a7c4f"
   },
   "outputs": [
    {
     "data": {
      "text/plain": [
       "((25699, 34), (12187, 34), (200000, 34))"
      ]
     },
     "execution_count": 25,
     "metadata": {},
     "output_type": "execute_result"
    }
   ],
   "source": [
    "sub_data_2 = sub_data_2[columns]\n",
    "sub_data_1 = sub_data_1[columns]\n",
    "raw_df = raw_df[columns]\n",
    "\n",
    "sub_data_1.shape,sub_data_2.shape,raw_df.shape"
   ]
  },
  {
   "cell_type": "code",
   "execution_count": 26,
   "metadata": {},
   "outputs": [
    {
     "data": {
      "text/plain": [
       "Index(['age_indicator', 'month_id', 'program_id', 'carts_created_at',\n",
       "       'bought_d1', 'bought_d2', 'bought_d3', 'bought_d4', 'bought_d5',\n",
       "       'payment_type', 'price', 'auto_payment', 'gender', 'year', 'year2',\n",
       "       'promo_+', 'promo_-', 'communication_type_dont',\n",
       "       'communication_type_order', 'communication_type_phone',\n",
       "       'communication_type_web', 'ABC_A', 'ABC_B', 'ABC_C', 'ABC_D',\n",
       "       'os_Android', 'os_Chrome OS', 'os_Fedora', 'os_Linux', 'os_Mac OS X',\n",
       "       'os_Ubuntu', 'os_Windows', 'os_dont', 'os_iOS'],\n",
       "      dtype='object')"
      ]
     },
     "execution_count": 26,
     "metadata": {},
     "output_type": "execute_result"
    }
   ],
   "source": [
    "sub_data_2.columns"
   ]
  },
  {
   "cell_type": "markdown",
   "metadata": {
    "id": "dvJwAc9oSwcP"
   },
   "source": [
    "# CATBOOST"
   ]
  },
  {
   "cell_type": "code",
   "execution_count": 27,
   "metadata": {},
   "outputs": [],
   "source": [
    "from catboost.utils import get_roc_curve\n",
    "import sklearn\n",
    "from sklearn import metrics\n",
    "from catboost.utils import select_threshold"
   ]
  },
  {
   "cell_type": "markdown",
   "metadata": {},
   "source": [
    "# NN"
   ]
  },
  {
   "cell_type": "code",
   "execution_count": 28,
   "metadata": {},
   "outputs": [],
   "source": [
    "NN = 15\n",
    "categorical = ['program_id']"
   ]
  },
  {
   "cell_type": "markdown",
   "metadata": {},
   "source": [
    "# 0"
   ]
  },
  {
   "cell_type": "code",
   "execution_count": 29,
   "metadata": {},
   "outputs": [
    {
     "name": "stdout",
     "output_type": "stream",
     "text": [
      "0\n",
      "0:\tlearn: 0.3999141\ttest: 0.4042944\tbest: 0.4042944 (0)\ttotal: 228ms\tremaining: 37m 58s\n",
      "1000:\tlearn: 0.1356828\ttest: 0.1900875\tbest: 0.1900836 (999)\ttotal: 1m 34s\tremaining: 14m 6s\n",
      "2000:\tlearn: 0.0820173\ttest: 0.1474934\tbest: 0.1474934 (2000)\ttotal: 3m 10s\tremaining: 12m 41s\n",
      "3000:\tlearn: 0.0539450\ttest: 0.1236955\tbest: 0.1236955 (3000)\ttotal: 4m 47s\tremaining: 11m 10s\n",
      "4000:\tlearn: 0.0379404\ttest: 0.1118246\tbest: 0.1117304 (3994)\ttotal: 6m 17s\tremaining: 9m 25s\n",
      "5000:\tlearn: 0.0276889\ttest: 0.1048244\tbest: 0.1047121 (4976)\ttotal: 7m 47s\tremaining: 7m 46s\n",
      "6000:\tlearn: 0.0210739\ttest: 0.1015766\tbest: 0.1015545 (5999)\ttotal: 9m 15s\tremaining: 6m 10s\n",
      "7000:\tlearn: 0.0164133\ttest: 0.1008305\tbest: 0.1008133 (6973)\ttotal: 10m 41s\tremaining: 4m 34s\n",
      "8000:\tlearn: 0.0134925\ttest: 0.0996630\tbest: 0.0994739 (7874)\ttotal: 12m 6s\tremaining: 3m 1s\n",
      "Stopped by overfitting detector  (1000 iterations wait)\n",
      "\n",
      "bestTest = 0.09947392377\n",
      "bestIteration = 7874\n",
      "\n",
      "Shrink model to first 7875 iterations.\n",
      "BEFORE: 0.9745492741788694\n",
      "1\n",
      "0:\tlearn: 0.4053046\ttest: 0.4063156\tbest: 0.4063156 (0)\ttotal: 84.2ms\tremaining: 14m 1s\n",
      "1000:\tlearn: 0.1349703\ttest: 0.1786137\tbest: 0.1786137 (1000)\ttotal: 1m 27s\tremaining: 13m 10s\n",
      "2000:\tlearn: 0.0814071\ttest: 0.1326662\tbest: 0.1326393 (1998)\ttotal: 3m\tremaining: 12m\n",
      "3000:\tlearn: 0.0537858\ttest: 0.1109996\tbest: 0.1109996 (3000)\ttotal: 4m 48s\tremaining: 11m 13s\n",
      "4000:\tlearn: 0.0376541\ttest: 0.0990359\tbest: 0.0988993 (3992)\ttotal: 6m 58s\tremaining: 10m 26s\n",
      "5000:\tlearn: 0.0274751\ttest: 0.0922213\tbest: 0.0921238 (4953)\ttotal: 9m 18s\tremaining: 9m 18s\n",
      "6000:\tlearn: 0.0206781\ttest: 0.0888869\tbest: 0.0885968 (5841)\ttotal: 11m 19s\tremaining: 7m 32s\n",
      "7000:\tlearn: 0.0163304\ttest: 0.0867498\tbest: 0.0865788 (6971)\ttotal: 13m 13s\tremaining: 5m 39s\n",
      "8000:\tlearn: 0.0135870\ttest: 0.0870782\tbest: 0.0862846 (7129)\ttotal: 15m 16s\tremaining: 3m 49s\n",
      "Stopped by overfitting detector  (1000 iterations wait)\n",
      "\n",
      "bestTest = 0.08628455311\n",
      "bestIteration = 7129\n",
      "\n",
      "Shrink model to first 7130 iterations.\n",
      "BEFORE: 0.9720625350036846\n",
      "2\n",
      "0:\tlearn: 0.3965460\ttest: 0.3994416\tbest: 0.3994416 (0)\ttotal: 104ms\tremaining: 17m 22s\n",
      "1000:\tlearn: 0.1359051\ttest: 0.1773452\tbest: 0.1773452 (1000)\ttotal: 2m 9s\tremaining: 19m 25s\n",
      "2000:\tlearn: 0.0817046\ttest: 0.1305847\tbest: 0.1305847 (2000)\ttotal: 4m 24s\tremaining: 17m 37s\n",
      "3000:\tlearn: 0.0540770\ttest: 0.1095012\tbest: 0.1094853 (2999)\ttotal: 6m 36s\tremaining: 15m 23s\n",
      "4000:\tlearn: 0.0378655\ttest: 0.0985095\tbest: 0.0984445 (3973)\ttotal: 8m 45s\tremaining: 13m 7s\n",
      "5000:\tlearn: 0.0277689\ttest: 0.0914906\tbest: 0.0914906 (5000)\ttotal: 10m 59s\tremaining: 10m 59s\n",
      "6000:\tlearn: 0.0211365\ttest: 0.0876114\tbest: 0.0873870 (5977)\ttotal: 13m 14s\tremaining: 8m 49s\n",
      "7000:\tlearn: 0.0167442\ttest: 0.0867152\tbest: 0.0860350 (6752)\ttotal: 15m 23s\tremaining: 6m 35s\n",
      "8000:\tlearn: 0.0136718\ttest: 0.0853940\tbest: 0.0852448 (7941)\ttotal: 17m 32s\tremaining: 4m 22s\n",
      "9000:\tlearn: 0.0118532\ttest: 0.0850032\tbest: 0.0848282 (8423)\ttotal: 19m 32s\tremaining: 2m 10s\n",
      "Stopped by overfitting detector  (1000 iterations wait)\n",
      "\n",
      "bestTest = 0.08482815259\n",
      "bestIteration = 8423\n",
      "\n",
      "Shrink model to first 8424 iterations.\n",
      "BEFORE: 0.9720985171190961\n",
      "3\n",
      "0:\tlearn: 0.3940284\ttest: 0.3948306\tbest: 0.3948306 (0)\ttotal: 123ms\tremaining: 20m 28s\n",
      "1000:\tlearn: 0.1326490\ttest: 0.1744325\tbest: 0.1744325 (1000)\ttotal: 2m 13s\tremaining: 20m 4s\n",
      "2000:\tlearn: 0.0810360\ttest: 0.1366908\tbest: 0.1366787 (1999)\ttotal: 4m 8s\tremaining: 16m 35s\n",
      "3000:\tlearn: 0.0540178\ttest: 0.1183024\tbest: 0.1181943 (2991)\ttotal: 6m 9s\tremaining: 14m 22s\n",
      "4000:\tlearn: 0.0377531\ttest: 0.1065372\tbest: 0.1065372 (4000)\ttotal: 8m 7s\tremaining: 12m 10s\n",
      "5000:\tlearn: 0.0276168\ttest: 0.1017036\tbest: 0.1016895 (4999)\ttotal: 10m 18s\tremaining: 10m 18s\n",
      "6000:\tlearn: 0.0207392\ttest: 0.0983483\tbest: 0.0981390 (5968)\ttotal: 12m 34s\tremaining: 8m 22s\n",
      "7000:\tlearn: 0.0163023\ttest: 0.0964779\tbest: 0.0963739 (6864)\ttotal: 14m 50s\tremaining: 6m 21s\n",
      "8000:\tlearn: 0.0133496\ttest: 0.0958108\tbest: 0.0957742 (7990)\ttotal: 17m\tremaining: 4m 15s\n",
      "9000:\tlearn: 0.0115817\ttest: 0.0961918\tbest: 0.0954599 (8314)\ttotal: 18m 18s\tremaining: 2m 1s\n",
      "Stopped by overfitting detector  (1000 iterations wait)\n",
      "\n",
      "bestTest = 0.09545992251\n",
      "bestIteration = 8314\n",
      "\n",
      "Shrink model to first 8315 iterations.\n",
      "BEFORE: 0.9678731283682385\n",
      "4\n",
      "0:\tlearn: 0.3957478\ttest: 0.3967743\tbest: 0.3967743 (0)\ttotal: 73.4ms\tremaining: 12m 14s\n",
      "1000:\tlearn: 0.1334516\ttest: 0.1777150\tbest: 0.1777150 (1000)\ttotal: 1m 17s\tremaining: 11m 33s\n",
      "2000:\tlearn: 0.0808345\ttest: 0.1357151\tbest: 0.1357151 (2000)\ttotal: 2m 34s\tremaining: 10m 17s\n",
      "3000:\tlearn: 0.0536246\ttest: 0.1151298\tbest: 0.1151298 (3000)\ttotal: 3m 48s\tremaining: 8m 51s\n",
      "4000:\tlearn: 0.0374457\ttest: 0.1031324\tbest: 0.1031324 (4000)\ttotal: 5m 22s\tremaining: 8m 3s\n",
      "5000:\tlearn: 0.0274304\ttest: 0.0951912\tbest: 0.0951045 (4971)\ttotal: 6m 39s\tremaining: 6m 39s\n",
      "6000:\tlearn: 0.0206535\ttest: 0.0919575\tbest: 0.0919575 (6000)\ttotal: 7m 57s\tremaining: 5m 18s\n",
      "7000:\tlearn: 0.0162944\ttest: 0.0908482\tbest: 0.0907348 (6945)\ttotal: 9m 11s\tremaining: 3m 56s\n",
      "8000:\tlearn: 0.0136121\ttest: 0.0894217\tbest: 0.0891786 (7952)\ttotal: 10m 17s\tremaining: 2m 34s\n",
      "9000:\tlearn: 0.0117487\ttest: 0.0889886\tbest: 0.0888219 (8781)\ttotal: 11m 28s\tremaining: 1m 16s\n",
      "9999:\tlearn: 0.0106695\ttest: 0.0893203\tbest: 0.0887209 (9076)\ttotal: 12m 30s\tremaining: 0us\n",
      "\n",
      "bestTest = 0.08872094277\n",
      "bestIteration = 9076\n",
      "\n",
      "Shrink model to first 9077 iterations.\n",
      "BEFORE: 0.9722098401167625\n",
      "5\n",
      "0:\tlearn: 0.3955889\ttest: 0.3939035\tbest: 0.3939035 (0)\ttotal: 85.3ms\tremaining: 14m 12s\n",
      "1000:\tlearn: 0.1336937\ttest: 0.1877812\tbest: 0.1877765 (999)\ttotal: 1m 14s\tremaining: 11m 11s\n",
      "2000:\tlearn: 0.0813780\ttest: 0.1481986\tbest: 0.1481986 (2000)\ttotal: 2m 31s\tremaining: 10m 6s\n",
      "3000:\tlearn: 0.0537977\ttest: 0.1280098\tbest: 0.1280098 (3000)\ttotal: 3m 46s\tremaining: 8m 47s\n",
      "4000:\tlearn: 0.0378373\ttest: 0.1172957\tbest: 0.1171323 (3991)\ttotal: 4m 56s\tremaining: 7m 25s\n",
      "5000:\tlearn: 0.0275160\ttest: 0.1117218\tbest: 0.1113828 (4902)\ttotal: 6m 7s\tremaining: 6m 7s\n",
      "6000:\tlearn: 0.0208148\ttest: 0.1095329\tbest: 0.1094000 (5982)\ttotal: 7m 21s\tremaining: 4m 54s\n",
      "7000:\tlearn: 0.0162858\ttest: 0.1081785\tbest: 0.1079578 (6855)\ttotal: 8m 37s\tremaining: 3m 41s\n",
      "8000:\tlearn: 0.0135248\ttest: 0.1077460\tbest: 0.1071364 (7746)\ttotal: 9m 44s\tremaining: 2m 25s\n",
      "Stopped by overfitting detector  (1000 iterations wait)\n",
      "\n",
      "bestTest = 0.1071363802\n",
      "bestIteration = 7746\n",
      "\n",
      "Shrink model to first 7747 iterations.\n",
      "BEFORE: 0.9726812565213134\n",
      "6\n",
      "0:\tlearn: 0.3930114\ttest: 0.3943306\tbest: 0.3943306 (0)\ttotal: 70.4ms\tremaining: 11m 43s\n",
      "1000:\tlearn: 0.1347735\ttest: 0.1878680\tbest: 0.1878680 (1000)\ttotal: 1m 18s\tremaining: 11m 41s\n",
      "2000:\tlearn: 0.0819768\ttest: 0.1457905\tbest: 0.1457905 (2000)\ttotal: 2m 33s\tremaining: 10m 13s\n",
      "3000:\tlearn: 0.0544834\ttest: 0.1242968\tbest: 0.1242148 (2998)\ttotal: 3m 53s\tremaining: 9m 3s\n",
      "4000:\tlearn: 0.0377389\ttest: 0.1136208\tbest: 0.1135523 (3996)\ttotal: 5m 9s\tremaining: 7m 44s\n",
      "5000:\tlearn: 0.0273892\ttest: 0.1076691\tbest: 0.1076389 (4984)\ttotal: 6m 47s\tremaining: 6m 46s\n",
      "6000:\tlearn: 0.0211975\ttest: 0.1035564\tbest: 0.1035564 (6000)\ttotal: 8m 11s\tremaining: 5m 27s\n",
      "7000:\tlearn: 0.0166151\ttest: 0.1007190\tbest: 0.1007190 (7000)\ttotal: 9m 25s\tremaining: 4m 2s\n",
      "8000:\tlearn: 0.0138131\ttest: 0.1004935\tbest: 0.0997537 (7430)\ttotal: 10m 43s\tremaining: 2m 40s\n",
      "Stopped by overfitting detector  (1000 iterations wait)\n",
      "\n",
      "bestTest = 0.09975373293\n",
      "bestIteration = 7430\n",
      "\n",
      "Shrink model to first 7431 iterations.\n",
      "BEFORE: 0.9712494815752224\n",
      "7\n",
      "0:\tlearn: 0.4142664\ttest: 0.4113773\tbest: 0.4113773 (0)\ttotal: 69.4ms\tremaining: 11m 34s\n",
      "1000:\tlearn: 0.1356472\ttest: 0.1851591\tbest: 0.1851591 (1000)\ttotal: 1m 41s\tremaining: 15m 9s\n",
      "2000:\tlearn: 0.0818806\ttest: 0.1420949\tbest: 0.1420949 (2000)\ttotal: 3m 31s\tremaining: 14m 5s\n",
      "3000:\tlearn: 0.0545776\ttest: 0.1236443\tbest: 0.1236113 (2996)\ttotal: 5m 4s\tremaining: 11m 49s\n",
      "4000:\tlearn: 0.0386638\ttest: 0.1151439\tbest: 0.1151197 (3999)\ttotal: 6m 18s\tremaining: 9m 27s\n",
      "5000:\tlearn: 0.0280313\ttest: 0.1101882\tbest: 0.1100045 (4896)\ttotal: 7m 38s\tremaining: 7m 38s\n",
      "6000:\tlearn: 0.0212994\ttest: 0.1068380\tbest: 0.1068380 (6000)\ttotal: 8m 59s\tremaining: 5m 59s\n",
      "7000:\tlearn: 0.0166444\ttest: 0.1036105\tbest: 0.1035760 (6976)\ttotal: 10m 22s\tremaining: 4m 26s\n",
      "8000:\tlearn: 0.0134502\ttest: 0.1034754\tbest: 0.1032663 (7205)\ttotal: 11m 39s\tremaining: 2m 54s\n"
     ]
    },
    {
     "name": "stdout",
     "output_type": "stream",
     "text": [
      "Stopped by overfitting detector  (1000 iterations wait)\n",
      "\n",
      "bestTest = 0.1032662801\n",
      "bestIteration = 7205\n",
      "\n",
      "Shrink model to first 7206 iterations.\n",
      "BEFORE: 0.9708529520466805\n",
      "8\n",
      "0:\tlearn: 0.3940677\ttest: 0.3944583\tbest: 0.3944583 (0)\ttotal: 74.9ms\tremaining: 12m 28s\n",
      "1000:\tlearn: 0.1337347\ttest: 0.1753643\tbest: 0.1753616 (999)\ttotal: 1m 14s\tremaining: 11m 6s\n",
      "2000:\tlearn: 0.0814024\ttest: 0.1363929\tbest: 0.1363692 (1997)\ttotal: 2m 14s\tremaining: 8m 57s\n",
      "3000:\tlearn: 0.0538421\ttest: 0.1137992\tbest: 0.1137992 (3000)\ttotal: 3m 11s\tremaining: 7m 26s\n",
      "4000:\tlearn: 0.0379148\ttest: 0.1018145\tbest: 0.1017200 (3986)\ttotal: 4m 8s\tremaining: 6m 12s\n",
      "5000:\tlearn: 0.0274480\ttest: 0.0943530\tbest: 0.0942773 (4992)\ttotal: 5m 6s\tremaining: 5m 5s\n",
      "6000:\tlearn: 0.0207618\ttest: 0.0911522\tbest: 0.0910719 (5962)\ttotal: 6m 9s\tremaining: 4m 6s\n",
      "7000:\tlearn: 0.0165840\ttest: 0.0886948\tbest: 0.0886662 (6995)\ttotal: 7m 12s\tremaining: 3m 5s\n",
      "8000:\tlearn: 0.0137660\ttest: 0.0886289\tbest: 0.0884339 (7133)\ttotal: 8m 14s\tremaining: 2m 3s\n",
      "9000:\tlearn: 0.0117353\ttest: 0.0878265\tbest: 0.0877752 (8948)\ttotal: 9m 31s\tremaining: 1m 3s\n",
      "9999:\tlearn: 0.0106838\ttest: 0.0882176\tbest: 0.0877743 (9283)\ttotal: 10m 49s\tremaining: 0us\n",
      "\n",
      "bestTest = 0.08777434843\n",
      "bestIteration = 9283\n",
      "\n",
      "Shrink model to first 9284 iterations.\n",
      "BEFORE: 0.9710568600417008\n",
      "9\n",
      "0:\tlearn: 0.3960990\ttest: 0.4035660\tbest: 0.4035660 (0)\ttotal: 84.1ms\tremaining: 14m\n",
      "1000:\tlearn: 0.1331755\ttest: 0.1848682\tbest: 0.1848363 (998)\ttotal: 1m 31s\tremaining: 13m 42s\n",
      "2000:\tlearn: 0.0814113\ttest: 0.1464426\tbest: 0.1464426 (2000)\ttotal: 3m\tremaining: 12m 1s\n",
      "3000:\tlearn: 0.0543718\ttest: 0.1238059\tbest: 0.1237803 (2999)\ttotal: 4m 30s\tremaining: 10m 30s\n",
      "4000:\tlearn: 0.0380296\ttest: 0.1117930\tbest: 0.1117813 (3998)\ttotal: 6m\tremaining: 9m\n",
      "5000:\tlearn: 0.0276649\ttest: 0.1045838\tbest: 0.1045838 (5000)\ttotal: 7m 16s\tremaining: 7m 16s\n",
      "6000:\tlearn: 0.0208968\ttest: 0.1002605\tbest: 0.1002605 (6000)\ttotal: 8m 21s\tremaining: 5m 34s\n",
      "7000:\tlearn: 0.0164709\ttest: 0.0973925\tbest: 0.0973099 (6985)\ttotal: 9m 27s\tremaining: 4m 3s\n",
      "8000:\tlearn: 0.0135794\ttest: 0.0961155\tbest: 0.0960560 (7798)\ttotal: 10m 57s\tremaining: 2m 44s\n",
      "Stopped by overfitting detector  (1000 iterations wait)\n",
      "\n",
      "bestTest = 0.09605602567\n",
      "bestIteration = 7798\n",
      "\n",
      "Shrink model to first 7799 iterations.\n",
      "BEFORE: 0.971784399795135\n",
      "10\n",
      "0:\tlearn: 0.3922162\ttest: 0.3909363\tbest: 0.3909363 (0)\ttotal: 81.8ms\tremaining: 13m 37s\n",
      "1000:\tlearn: 0.1349927\ttest: 0.1781968\tbest: 0.1781968 (1000)\ttotal: 1m 29s\tremaining: 13m 21s\n",
      "2000:\tlearn: 0.0816419\ttest: 0.1397191\tbest: 0.1397191 (2000)\ttotal: 2m 59s\tremaining: 11m 58s\n",
      "3000:\tlearn: 0.0543936\ttest: 0.1199712\tbest: 0.1199712 (3000)\ttotal: 4m 36s\tremaining: 10m 45s\n",
      "4000:\tlearn: 0.0379936\ttest: 0.1100333\tbest: 0.1099987 (3997)\ttotal: 6m 6s\tremaining: 9m 10s\n",
      "5000:\tlearn: 0.0275771\ttest: 0.1045427\tbest: 0.1045427 (5000)\ttotal: 7m 39s\tremaining: 7m 39s\n",
      "6000:\tlearn: 0.0208350\ttest: 0.1033043\tbest: 0.1033032 (5999)\ttotal: 9m 10s\tremaining: 6m 6s\n",
      "7000:\tlearn: 0.0165931\ttest: 0.1028061\tbest: 0.1022477 (6725)\ttotal: 10m 22s\tremaining: 4m 26s\n",
      "Stopped by overfitting detector  (1000 iterations wait)\n",
      "\n",
      "bestTest = 0.1022477349\n",
      "bestIteration = 6725\n",
      "\n",
      "Shrink model to first 6726 iterations.\n",
      "BEFORE: 0.9723738458815852\n",
      "11\n",
      "0:\tlearn: 0.3970708\ttest: 0.3953045\tbest: 0.3953045 (0)\ttotal: 67.1ms\tremaining: 11m 10s\n",
      "1000:\tlearn: 0.1350568\ttest: 0.1801948\tbest: 0.1801182 (997)\ttotal: 1m 8s\tremaining: 10m 16s\n",
      "2000:\tlearn: 0.0812020\ttest: 0.1364901\tbest: 0.1364189 (1996)\ttotal: 2m 13s\tremaining: 8m 54s\n",
      "3000:\tlearn: 0.0536302\ttest: 0.1136997\tbest: 0.1135915 (2994)\ttotal: 3m 19s\tremaining: 7m 45s\n",
      "4000:\tlearn: 0.0376953\ttest: 0.1022468\tbest: 0.1022069 (3998)\ttotal: 4m 28s\tremaining: 6m 42s\n",
      "5000:\tlearn: 0.0275324\ttest: 0.0955193\tbest: 0.0955070 (4999)\ttotal: 5m 32s\tremaining: 5m 32s\n",
      "6000:\tlearn: 0.0209982\ttest: 0.0916194\tbest: 0.0914570 (5957)\ttotal: 6m 36s\tremaining: 4m 24s\n",
      "7000:\tlearn: 0.0165991\ttest: 0.0910104\tbest: 0.0907122 (6857)\ttotal: 7m 40s\tremaining: 3m 17s\n",
      "8000:\tlearn: 0.0136272\ttest: 0.0900714\tbest: 0.0897694 (7821)\ttotal: 8m 47s\tremaining: 2m 11s\n",
      "9000:\tlearn: 0.0118098\ttest: 0.0891361\tbest: 0.0890185 (8848)\ttotal: 10m 18s\tremaining: 1m 8s\n",
      "9999:\tlearn: 0.0107928\ttest: 0.0879254\tbest: 0.0878763 (9988)\ttotal: 11m 44s\tremaining: 0us\n",
      "\n",
      "bestTest = 0.08787626304\n",
      "bestIteration = 9988\n",
      "\n",
      "Shrink model to first 9989 iterations.\n",
      "BEFORE: 0.9740366714861262\n",
      "12\n",
      "0:\tlearn: 0.3897033\ttest: 0.3872723\tbest: 0.3872723 (0)\ttotal: 86.5ms\tremaining: 14m 24s\n",
      "1000:\tlearn: 0.1350687\ttest: 0.1699716\tbest: 0.1699716 (1000)\ttotal: 1m 30s\tremaining: 13m 36s\n",
      "2000:\tlearn: 0.0818125\ttest: 0.1294426\tbest: 0.1294426 (2000)\ttotal: 3m\tremaining: 12m\n",
      "3000:\tlearn: 0.0547624\ttest: 0.1101134\tbest: 0.1100796 (2996)\ttotal: 4m 29s\tremaining: 10m 27s\n",
      "4000:\tlearn: 0.0381445\ttest: 0.0969187\tbest: 0.0969187 (4000)\ttotal: 5m 58s\tremaining: 8m 57s\n",
      "5000:\tlearn: 0.0279041\ttest: 0.0908693\tbest: 0.0907799 (4970)\ttotal: 7m 27s\tremaining: 7m 27s\n",
      "6000:\tlearn: 0.0209830\ttest: 0.0855607\tbest: 0.0854055 (5932)\ttotal: 9m 4s\tremaining: 6m 2s\n",
      "7000:\tlearn: 0.0165946\ttest: 0.0836585\tbest: 0.0835671 (6995)\ttotal: 10m 15s\tremaining: 4m 23s\n",
      "8000:\tlearn: 0.0137260\ttest: 0.0831179\tbest: 0.0829973 (7924)\ttotal: 11m 17s\tremaining: 2m 49s\n",
      "9000:\tlearn: 0.0116920\ttest: 0.0822438\tbest: 0.0821402 (8954)\ttotal: 12m 21s\tremaining: 1m 22s\n",
      "Stopped by overfitting detector  (1000 iterations wait)\n",
      "\n",
      "bestTest = 0.08214024595\n",
      "bestIteration = 8954\n",
      "\n",
      "Shrink model to first 8955 iterations.\n",
      "BEFORE: 0.973954522394105\n",
      "13\n",
      "0:\tlearn: 0.3986481\ttest: 0.4001247\tbest: 0.4001247 (0)\ttotal: 68.9ms\tremaining: 11m 28s\n",
      "1000:\tlearn: 0.1343881\ttest: 0.1857629\tbest: 0.1857629 (1000)\ttotal: 1m 14s\tremaining: 11m 13s\n",
      "2000:\tlearn: 0.0817435\ttest: 0.1440418\tbest: 0.1440007 (1994)\ttotal: 2m 27s\tremaining: 9m 48s\n",
      "3000:\tlearn: 0.0543351\ttest: 0.1230476\tbest: 0.1230476 (3000)\ttotal: 3m 38s\tremaining: 8m 28s\n",
      "4000:\tlearn: 0.0382153\ttest: 0.1094792\tbest: 0.1094538 (3998)\ttotal: 4m 51s\tremaining: 7m 17s\n",
      "5000:\tlearn: 0.0279527\ttest: 0.1022296\tbest: 0.1021691 (4986)\ttotal: 6m 5s\tremaining: 6m 5s\n",
      "6000:\tlearn: 0.0211991\ttest: 0.0974928\tbest: 0.0973321 (5973)\ttotal: 7m 20s\tremaining: 4m 53s\n",
      "7000:\tlearn: 0.0169753\ttest: 0.0954709\tbest: 0.0953791 (6975)\ttotal: 8m 34s\tremaining: 3m 40s\n",
      "8000:\tlearn: 0.0139975\ttest: 0.0950647\tbest: 0.0945673 (7889)\ttotal: 9m 46s\tremaining: 2m 26s\n",
      "Stopped by overfitting detector  (1000 iterations wait)\n",
      "\n",
      "bestTest = 0.09456731394\n",
      "bestIteration = 7889\n",
      "\n",
      "Shrink model to first 7890 iterations.\n",
      "BEFORE: 0.9720872970616258\n",
      "14\n",
      "0:\tlearn: 0.3955053\ttest: 0.4018422\tbest: 0.4018422 (0)\ttotal: 72.6ms\tremaining: 12m 5s\n",
      "1000:\tlearn: 0.1343305\ttest: 0.1845663\tbest: 0.1845663 (1000)\ttotal: 1m 11s\tremaining: 10m 47s\n",
      "2000:\tlearn: 0.0816428\ttest: 0.1411474\tbest: 0.1411474 (2000)\ttotal: 2m 23s\tremaining: 9m 33s\n",
      "3000:\tlearn: 0.0538405\ttest: 0.1181042\tbest: 0.1181010 (2997)\ttotal: 3m 34s\tremaining: 8m 19s\n",
      "4000:\tlearn: 0.0375960\ttest: 0.1060801\tbest: 0.1059431 (3996)\ttotal: 4m 45s\tremaining: 7m 7s\n",
      "5000:\tlearn: 0.0274359\ttest: 0.1001280\tbest: 0.1000682 (4999)\ttotal: 5m 55s\tremaining: 5m 55s\n",
      "6000:\tlearn: 0.0207958\ttest: 0.0960990\tbest: 0.0959931 (5873)\ttotal: 7m 6s\tremaining: 4m 44s\n",
      "7000:\tlearn: 0.0162681\ttest: 0.0942512\tbest: 0.0940762 (6600)\ttotal: 8m 15s\tremaining: 3m 32s\n",
      "8000:\tlearn: 0.0133225\ttest: 0.0937237\tbest: 0.0932840 (7495)\ttotal: 9m 22s\tremaining: 2m 20s\n",
      "Stopped by overfitting detector  (1000 iterations wait)\n",
      "\n",
      "bestTest = 0.0932839781\n",
      "bestIteration = 7495\n",
      "\n",
      "Shrink model to first 7496 iterations.\n",
      "BEFORE: 0.9713838047367876\n",
      "[70597, 56556, 29937, 55304, 1495, 69767, 87902, 41688, 32903, 73958, 33111, 38027, 21224, 38784, 11417] [46055, 91538, 58971, 67278, 59246, 82145, 14757, 5190, 56400, 79415, 29809, 44498, 80386, 47861, 36083] [31221, 32297, 51731, 16491, 49472, 58050, 30563, 28029, 14602, 49773, 93821, 37483, 37143, 22128, 32313]\n"
     ]
    }
   ],
   "source": [
    "k1_list = []\n",
    "k2_list = []\n",
    "k3_list = []\n",
    "in_bag = []\n",
    "models = []\n",
    "fpr_lst = []\n",
    "\n",
    "for i in range(NN):\n",
    "    print(i)\n",
    "    k1 = random.randint(0,100000)\n",
    "    k1_list.append(k1)\n",
    "    train, val, y_train, y_val = train_test_split(np.array(raw_df),\n",
    "                                  np.array(y),\n",
    "                                  test_size=0.05,\n",
    "                                  random_state=k1)\n",
    "    \n",
    "    k2 = random.randint(0,100000)\n",
    "    k2_list.append(k2)\n",
    "    train, test_df, y_train, y_test_df = train_test_split(train,\n",
    "                                  y_train,\n",
    "                                  test_size=0.05,\n",
    "                                  random_state=k2)\n",
    "        \n",
    "\n",
    "\n",
    "    train_dataset = Pool(train,\n",
    "                         y_train)\n",
    "    \n",
    "    eval_dataset = Pool(test_df,\n",
    "                        y_test_df)\n",
    "    \n",
    "    val_pool = Pool(test_df,\n",
    "                        y_test_df)\n",
    "\n",
    "    k3 = random.randint(0,100000)\n",
    "    k3_list.append(k3)\n",
    "    model = CatBoostClassifier(custom_metric = ['TotalF1','Precision','Recall'],\n",
    "                               #eval_metric=CountErrors(),\n",
    "                               iterations = 10000,\n",
    "                               learning_rate = 0.5,\n",
    "                               random_seed=k3,\n",
    "                               loss_function='CrossEntropy',\n",
    "                               #l2_leaf_reg=1e-1,\n",
    "                               #class_weights=class_weight,\n",
    "                               verbose=1000)\n",
    "\n",
    "    model.fit(train,\n",
    "              y_train,\n",
    "              eval_set=eval_dataset,\n",
    "              early_stopping_rounds=1000)    \n",
    "    models.append(model)\n",
    "\n",
    "\n",
    "    print('BEFORE:',0.2*recall_score(y_val,model.predict(val),average='weighted')+0.8*precision_score(y_val,model.predict(val),average='weighted'))\n",
    "    \n",
    "    \n",
    "\n",
    "    \n",
    "print(k1_list,k2_list,k3_list)"
   ]
  },
  {
   "cell_type": "code",
   "execution_count": 30,
   "metadata": {},
   "outputs": [],
   "source": [
    "y_pred_0 = []\n",
    "\n",
    "for i in range(len(models)):\n",
    "    y_pred_0.append(models[i].predict_proba(original_test))\n",
    "    \n",
    "y_pred_0 = np.median(y_pred_0,axis=0)"
   ]
  },
  {
   "cell_type": "code",
   "execution_count": 43,
   "metadata": {},
   "outputs": [],
   "source": [
    "for i in range(len(models)):\n",
    "    models[i].save_model(r'D:\\\\Champ2022\\\\Models\\\\Best\\\\0\\\\model_'+str(i))"
   ]
  },
  {
   "cell_type": "markdown",
   "metadata": {},
   "source": [
    "# 1"
   ]
  },
  {
   "cell_type": "code",
   "execution_count": 32,
   "metadata": {},
   "outputs": [
    {
     "name": "stdout",
     "output_type": "stream",
     "text": [
      "0\n",
      "0:\tlearn: 0.6559125\ttest: 0.6565946\tbest: 0.6565946 (0)\ttotal: 28.5ms\tremaining: 4m 45s\n",
      "1000:\tlearn: 0.0335634\ttest: 0.1097469\tbest: 0.1097397 (999)\ttotal: 23s\tremaining: 3m 26s\n",
      "2000:\tlearn: 0.0146973\ttest: 0.0949174\tbest: 0.0949162 (1987)\ttotal: 46.4s\tremaining: 3m 5s\n",
      "3000:\tlearn: 0.0127554\ttest: 0.0927657\tbest: 0.0924329 (2984)\ttotal: 1m 5s\tremaining: 2m 31s\n",
      "4000:\tlearn: 0.0121046\ttest: 0.0926235\tbest: 0.0922057 (3611)\ttotal: 1m 24s\tremaining: 2m 6s\n",
      "Stopped by overfitting detector  (1000 iterations wait)\n",
      "\n",
      "bestTest = 0.09220571636\n",
      "bestIteration = 3611\n",
      "\n",
      "Shrink model to first 3612 iterations.\n",
      "BEFORE: 0.971990954010668\n",
      "1\n",
      "0:\tlearn: 0.6499473\ttest: 0.6593596\tbest: 0.6593596 (0)\ttotal: 27.8ms\tremaining: 4m 37s\n",
      "1000:\tlearn: 0.0342191\ttest: 0.1218416\tbest: 0.1214954 (998)\ttotal: 24.8s\tremaining: 3m 42s\n",
      "2000:\tlearn: 0.0150225\ttest: 0.1096649\tbest: 0.1083644 (1798)\ttotal: 46.7s\tremaining: 3m 6s\n",
      "Stopped by overfitting detector  (1000 iterations wait)\n",
      "\n",
      "bestTest = 0.1083644433\n",
      "bestIteration = 1798\n",
      "\n",
      "Shrink model to first 1799 iterations.\n",
      "BEFORE: 0.9735408560311285\n",
      "2\n",
      "0:\tlearn: 0.6509425\ttest: 0.6542495\tbest: 0.6542495 (0)\ttotal: 28.6ms\tremaining: 4m 46s\n",
      "1000:\tlearn: 0.0329528\ttest: 0.1065399\tbest: 0.1064044 (999)\ttotal: 25.3s\tremaining: 3m 47s\n",
      "2000:\tlearn: 0.0151882\ttest: 0.0966761\tbest: 0.0953287 (1503)\ttotal: 46.6s\tremaining: 3m 6s\n",
      "Stopped by overfitting detector  (1000 iterations wait)\n",
      "\n",
      "bestTest = 0.0953286577\n",
      "bestIteration = 1503\n",
      "\n",
      "Shrink model to first 1504 iterations.\n",
      "BEFORE: 0.9525275485246356\n",
      "3\n",
      "0:\tlearn: 0.6554288\ttest: 0.6515401\tbest: 0.6515401 (0)\ttotal: 69.6ms\tremaining: 11m 36s\n",
      "1000:\tlearn: 0.0329597\ttest: 0.0854765\tbest: 0.0852868 (998)\ttotal: 25.7s\tremaining: 3m 51s\n",
      "2000:\tlearn: 0.0170946\ttest: 0.0706171\tbest: 0.0704943 (1735)\ttotal: 47.8s\tremaining: 3m 11s\n",
      "3000:\tlearn: 0.0141113\ttest: 0.0679946\tbest: 0.0673806 (2699)\ttotal: 1m 8s\tremaining: 2m 39s\n",
      "4000:\tlearn: 0.0121941\ttest: 0.0670504\tbest: 0.0654175 (3269)\ttotal: 1m 27s\tremaining: 2m 10s\n",
      "Stopped by overfitting detector  (1000 iterations wait)\n",
      "\n",
      "bestTest = 0.06541754812\n",
      "bestIteration = 3269\n",
      "\n",
      "Shrink model to first 3270 iterations.\n",
      "BEFORE: 0.9743377145008876\n",
      "4\n",
      "0:\tlearn: 0.6488795\ttest: 0.6488658\tbest: 0.6488658 (0)\ttotal: 36.3ms\tremaining: 6m 2s\n",
      "1000:\tlearn: 0.0312083\ttest: 0.0917608\tbest: 0.0916416 (997)\ttotal: 25.9s\tremaining: 3m 53s\n",
      "2000:\tlearn: 0.0149471\ttest: 0.0842769\tbest: 0.0815291 (1397)\ttotal: 47.8s\tremaining: 3m 11s\n",
      "Stopped by overfitting detector  (1000 iterations wait)\n",
      "\n",
      "bestTest = 0.08152905742\n",
      "bestIteration = 1397\n",
      "\n",
      "Shrink model to first 1398 iterations.\n",
      "BEFORE: 0.9681436836915356\n",
      "5\n",
      "0:\tlearn: 0.6575338\ttest: 0.6640210\tbest: 0.6640210 (0)\ttotal: 23.8ms\tremaining: 3m 57s\n",
      "1000:\tlearn: 0.0334431\ttest: 0.1340004\tbest: 0.1340004 (1000)\ttotal: 25s\tremaining: 3m 44s\n",
      "2000:\tlearn: 0.0147474\ttest: 0.1206385\tbest: 0.1180906 (1540)\ttotal: 49.5s\tremaining: 3m 17s\n",
      "Stopped by overfitting detector  (1000 iterations wait)\n",
      "\n",
      "bestTest = 0.1180905996\n",
      "bestIteration = 1540\n",
      "\n",
      "Shrink model to first 1541 iterations.\n",
      "BEFORE: 0.9774826146514306\n",
      "6\n",
      "0:\tlearn: 0.6536278\ttest: 0.6630448\tbest: 0.6630448 (0)\ttotal: 24.1ms\tremaining: 4m\n",
      "1000:\tlearn: 0.0330792\ttest: 0.1122552\tbest: 0.1122552 (1000)\ttotal: 25.5s\tremaining: 3m 48s\n",
      "2000:\tlearn: 0.0150410\ttest: 0.1006669\tbest: 0.1004790 (1985)\ttotal: 47.3s\tremaining: 3m 9s\n",
      "3000:\tlearn: 0.0135347\ttest: 0.0988801\tbest: 0.0987575 (2814)\ttotal: 1m 4s\tremaining: 2m 31s\n",
      "4000:\tlearn: 0.0121886\ttest: 0.0980092\tbest: 0.0979060 (3839)\ttotal: 1m 21s\tremaining: 2m 2s\n",
      "5000:\tlearn: 0.0115325\ttest: 0.0980265\tbest: 0.0974413 (4810)\ttotal: 1m 40s\tremaining: 1m 40s\n",
      "Stopped by overfitting detector  (1000 iterations wait)\n",
      "\n",
      "bestTest = 0.09744127184\n",
      "bestIteration = 4810\n",
      "\n",
      "Shrink model to first 4811 iterations.\n",
      "BEFORE: 0.9696982426134177\n",
      "7\n",
      "0:\tlearn: 0.6573335\ttest: 0.6517164\tbest: 0.6517164 (0)\ttotal: 21.9ms\tremaining: 3m 39s\n",
      "1000:\tlearn: 0.0353884\ttest: 0.1197972\tbest: 0.1197121 (987)\ttotal: 26.1s\tremaining: 3m 54s\n",
      "2000:\tlearn: 0.0144214\ttest: 0.1191142\tbest: 0.1164116 (1404)\ttotal: 48.6s\tremaining: 3m 14s\n",
      "Stopped by overfitting detector  (1000 iterations wait)\n",
      "\n",
      "bestTest = 0.1164116061\n",
      "bestIteration = 1404\n",
      "\n",
      "Shrink model to first 1405 iterations.\n",
      "BEFORE: 0.9758780284693442\n",
      "8\n",
      "0:\tlearn: 0.6540851\ttest: 0.6601709\tbest: 0.6601709 (0)\ttotal: 21.9ms\tremaining: 3m 38s\n",
      "1000:\tlearn: 0.0358599\ttest: 0.1365105\tbest: 0.1358116 (987)\ttotal: 26.6s\tremaining: 3m 58s\n",
      "2000:\tlearn: 0.0155190\ttest: 0.1311687\tbest: 0.1268488 (1425)\ttotal: 50.6s\tremaining: 3m 22s\n",
      "Stopped by overfitting detector  (1000 iterations wait)\n",
      "\n",
      "bestTest = 0.1268488072\n",
      "bestIteration = 1425\n",
      "\n",
      "Shrink model to first 1426 iterations.\n",
      "BEFORE: 0.9782101167315176\n",
      "9\n",
      "0:\tlearn: 0.6562816\ttest: 0.6563899\tbest: 0.6563899 (0)\ttotal: 25.5ms\tremaining: 4m 14s\n",
      "1000:\tlearn: 0.0329665\ttest: 0.1056103\tbest: 0.1049388 (984)\ttotal: 27.1s\tremaining: 4m 3s\n",
      "2000:\tlearn: 0.0154100\ttest: 0.0870264\tbest: 0.0869383 (1808)\ttotal: 50.8s\tremaining: 3m 23s\n",
      "3000:\tlearn: 0.0135254\ttest: 0.0849386\tbest: 0.0848075 (2982)\ttotal: 1m 12s\tremaining: 2m 48s\n",
      "4000:\tlearn: 0.0125901\ttest: 0.0832002\tbest: 0.0831954 (3987)\ttotal: 1m 32s\tremaining: 2m 19s\n",
      "5000:\tlearn: 0.0122241\ttest: 0.0826851\tbest: 0.0823495 (4021)\ttotal: 1m 53s\tremaining: 1m 53s\n",
      "Stopped by overfitting detector  (1000 iterations wait)\n",
      "\n",
      "bestTest = 0.08234952624\n",
      "bestIteration = 4021\n",
      "\n",
      "Shrink model to first 4022 iterations.\n",
      "BEFORE: 0.9673902295995136\n",
      "10\n",
      "0:\tlearn: 0.6568529\ttest: 0.6531791\tbest: 0.6531791 (0)\ttotal: 28.4ms\tremaining: 4m 43s\n",
      "1000:\tlearn: 0.0320291\ttest: 0.0871673\tbest: 0.0867167 (991)\ttotal: 27.3s\tremaining: 4m 5s\n",
      "2000:\tlearn: 0.0153849\ttest: 0.0768556\tbest: 0.0763433 (1900)\ttotal: 50.9s\tremaining: 3m 23s\n",
      "3000:\tlearn: 0.0130589\ttest: 0.0754258\tbest: 0.0740392 (2732)\ttotal: 1m 11s\tremaining: 2m 47s\n",
      "Stopped by overfitting detector  (1000 iterations wait)\n",
      "\n",
      "bestTest = 0.07403917375\n",
      "bestIteration = 2732\n",
      "\n",
      "Shrink model to first 2733 iterations.\n",
      "BEFORE: 0.9712418723885504\n",
      "11\n",
      "0:\tlearn: 0.6580392\ttest: 0.6587039\tbest: 0.6587039 (0)\ttotal: 22.1ms\tremaining: 3m 41s\n",
      "1000:\tlearn: 0.0341813\ttest: 0.1345547\tbest: 0.1345547 (1000)\ttotal: 26.6s\tremaining: 3m 59s\n",
      "2000:\tlearn: 0.0174894\ttest: 0.1226599\tbest: 0.1221584 (1842)\ttotal: 49s\tremaining: 3m 15s\n",
      "3000:\tlearn: 0.0128640\ttest: 0.1221998\tbest: 0.1214681 (2658)\ttotal: 1m 12s\tremaining: 2m 48s\n",
      "Stopped by overfitting detector  (1000 iterations wait)\n",
      "\n",
      "bestTest = 0.1214680773\n",
      "bestIteration = 2658\n",
      "\n",
      "Shrink model to first 2659 iterations.\n",
      "BEFORE: 0.9789881757578247\n",
      "12\n",
      "0:\tlearn: 0.6563771\ttest: 0.6579595\tbest: 0.6579595 (0)\ttotal: 23.7ms\tremaining: 3m 56s\n",
      "1000:\tlearn: 0.0324722\ttest: 0.1357916\tbest: 0.1336516 (913)\ttotal: 26.8s\tremaining: 4m 1s\n",
      "2000:\tlearn: 0.0157321\ttest: 0.1314325\tbest: 0.1280798 (1243)\ttotal: 50.8s\tremaining: 3m 23s\n",
      "Stopped by overfitting detector  (1000 iterations wait)\n",
      "\n",
      "bestTest = 0.128079755\n",
      "bestIteration = 1243\n",
      "\n",
      "Shrink model to first 1244 iterations.\n",
      "BEFORE: 0.9665366691132954\n",
      "13\n",
      "0:\tlearn: 0.6521603\ttest: 0.6530066\tbest: 0.6530066 (0)\ttotal: 25.2ms\tremaining: 4m 11s\n",
      "1000:\tlearn: 0.0316205\ttest: 0.1247032\tbest: 0.1243051 (975)\ttotal: 26.4s\tremaining: 3m 57s\n",
      "2000:\tlearn: 0.0143165\ttest: 0.1175775\tbest: 0.1165554 (1850)\ttotal: 49.6s\tremaining: 3m 18s\n",
      "Stopped by overfitting detector  (1000 iterations wait)\n",
      "\n",
      "bestTest = 0.1165553687\n",
      "bestIteration = 1850\n",
      "\n",
      "Shrink model to first 1851 iterations.\n",
      "BEFORE: 0.9735503289997676\n",
      "14\n",
      "0:\tlearn: 0.6525392\ttest: 0.6468290\tbest: 0.6468290 (0)\ttotal: 27.3ms\tremaining: 4m 32s\n",
      "1000:\tlearn: 0.0331821\ttest: 0.1308712\tbest: 0.1299929 (928)\ttotal: 24.2s\tremaining: 3m 37s\n",
      "2000:\tlearn: 0.0147193\ttest: 0.1234517\tbest: 0.1219841 (1299)\ttotal: 46.8s\tremaining: 3m 6s\n",
      "Stopped by overfitting detector  (1000 iterations wait)\n",
      "\n",
      "bestTest = 0.1219841468\n",
      "bestIteration = 1299\n",
      "\n",
      "Shrink model to first 1300 iterations.\n",
      "BEFORE: 0.9743206079571125\n",
      "[18068, 90870, 78580, 80894, 28654, 5338, 84489, 93061, 22279, 79255, 65658, 76736, 71733, 68376, 58192] [62423, 93269, 3792, 3227, 37099, 72837, 79792, 69699, 41475, 91143, 74349, 30365, 15853, 33531, 60988] [54935, 18396, 26389, 51926, 85059, 36645, 12115, 15865, 86889, 19325, 21825, 99956, 74051, 18648, 30876]\n"
     ]
    }
   ],
   "source": [
    "k1_list = []\n",
    "k2_list = []\n",
    "k3_list = []\n",
    "in_bag = []\n",
    "models_1 = []\n",
    "fpr_lst = []\n",
    "\n",
    "for i in range(NN):\n",
    "    print(i)\n",
    "    k1 = random.randint(0,100000)\n",
    "    k1_list.append(k1)\n",
    "    train, val, y_train, y_val = train_test_split(np.array(sub_data_1),\n",
    "                                  np.array(y_sub_1),\n",
    "                                  test_size=0.05,\n",
    "                                  random_state=k1)\n",
    "    \n",
    "    k2 = random.randint(0,100000)\n",
    "    k2_list.append(k2)\n",
    "    train, test_df, y_train, y_test_df = train_test_split(train,\n",
    "                                  y_train,\n",
    "                                  test_size=0.05,\n",
    "                                  random_state=k2)\n",
    "        \n",
    "\n",
    "\n",
    "    train_dataset = Pool(train,\n",
    "                         y_train)\n",
    "    \n",
    "    eval_dataset = Pool(test_df,\n",
    "                        y_test_df)\n",
    "    \n",
    "    val_pool = Pool(test_df,\n",
    "                        y_test_df)\n",
    "\n",
    "    k3 = random.randint(0,100000)\n",
    "    k3_list.append(k3)\n",
    "    model = CatBoostClassifier(custom_metric = ['TotalF1','Precision','Recall'],\n",
    "                               #eval_metric=CountErrors(),\n",
    "                               iterations = 10000,\n",
    "                               learning_rate = 0.5,\n",
    "                               random_seed=k3,\n",
    "                               loss_function='CrossEntropy',\n",
    "                               #l2_leaf_reg=1e-1,\n",
    "                               #class_weights=class_weight,\n",
    "                               verbose=1000)\n",
    "\n",
    "    model.fit(train,\n",
    "              y_train,\n",
    "              eval_set=eval_dataset,\n",
    "              early_stopping_rounds=1000)    \n",
    "    models_1.append(model)\n",
    "\n",
    "\n",
    "    print('BEFORE:',0.2*recall_score(y_val,model.predict(val),average='weighted')+0.8*precision_score(y_val,model.predict(val),average='weighted'))\n",
    "    \n",
    "print(k1_list,k2_list,k3_list)"
   ]
  },
  {
   "cell_type": "code",
   "execution_count": 33,
   "metadata": {},
   "outputs": [],
   "source": [
    "y_pred_1 = []\n",
    "border_lst = []\n",
    "\n",
    "for i in range(len(models_1)):\n",
    "    y_pred_1.append(models_1[i].predict_proba(original_test))\n",
    "    #border_lst.append(select_threshold(model=models[i], data=val_pool, FPR=0.01))\n",
    "    \n",
    "y_pred_1 = np.median(y_pred_1,axis=0)\n"
   ]
  },
  {
   "cell_type": "code",
   "execution_count": 44,
   "metadata": {},
   "outputs": [],
   "source": [
    "for i in range(len(models_1)):\n",
    "    models_1[i].save_model(r'D:\\\\Champ2022\\\\Models\\\\Best\\\\1\\\\model_'+str(i))"
   ]
  },
  {
   "cell_type": "markdown",
   "metadata": {},
   "source": [
    "# 2"
   ]
  },
  {
   "cell_type": "code",
   "execution_count": 35,
   "metadata": {},
   "outputs": [
    {
     "name": "stdout",
     "output_type": "stream",
     "text": [
      "0\n",
      "0:\tlearn: 0.6587042\ttest: 0.6581380\tbest: 0.6581380 (0)\ttotal: 16.8ms\tremaining: 14m 2s\n",
      "1000:\tlearn: 0.1292392\ttest: 0.1640539\tbest: 0.1640539 (1000)\ttotal: 16.9s\tremaining: 13m 46s\n",
      "2000:\tlearn: 0.0730745\ttest: 0.1094179\tbest: 0.1094179 (2000)\ttotal: 34.4s\tremaining: 13m 44s\n",
      "3000:\tlearn: 0.0483417\ttest: 0.0852746\tbest: 0.0852746 (3000)\ttotal: 52.3s\tremaining: 13m 39s\n",
      "4000:\tlearn: 0.0347313\ttest: 0.0720593\tbest: 0.0720593 (4000)\ttotal: 1m 10s\tremaining: 13m 34s\n",
      "5000:\tlearn: 0.0268062\ttest: 0.0649720\tbest: 0.0649720 (5000)\ttotal: 1m 28s\tremaining: 13m 13s\n",
      "6000:\tlearn: 0.0215042\ttest: 0.0599718\tbest: 0.0599718 (6000)\ttotal: 1m 46s\tremaining: 13m 2s\n",
      "7000:\tlearn: 0.0178841\ttest: 0.0569050\tbest: 0.0568827 (6994)\ttotal: 2m 3s\tremaining: 12m 38s\n",
      "8000:\tlearn: 0.0151530\ttest: 0.0545468\tbest: 0.0545402 (7997)\ttotal: 2m 23s\tremaining: 12m 32s\n",
      "9000:\tlearn: 0.0131351\ttest: 0.0529203\tbest: 0.0529203 (9000)\ttotal: 2m 49s\tremaining: 12m 52s\n",
      "10000:\tlearn: 0.0116163\ttest: 0.0517164\tbest: 0.0517164 (10000)\ttotal: 3m 15s\tremaining: 13m 2s\n",
      "11000:\tlearn: 0.0104380\ttest: 0.0510490\tbest: 0.0510340 (10812)\ttotal: 3m 39s\tremaining: 12m 59s\n",
      "12000:\tlearn: 0.0094610\ttest: 0.0504824\tbest: 0.0504824 (12000)\ttotal: 4m 3s\tremaining: 12m 51s\n",
      "13000:\tlearn: 0.0086896\ttest: 0.0500891\tbest: 0.0500432 (12921)\ttotal: 4m 23s\tremaining: 12m 30s\n",
      "14000:\tlearn: 0.0080537\ttest: 0.0494196\tbest: 0.0494138 (13999)\ttotal: 4m 40s\tremaining: 12m\n",
      "15000:\tlearn: 0.0075086\ttest: 0.0490637\tbest: 0.0490368 (14992)\ttotal: 5m 3s\tremaining: 11m 48s\n",
      "16000:\tlearn: 0.0070686\ttest: 0.0488618\tbest: 0.0488332 (15834)\ttotal: 5m 23s\tremaining: 11m 26s\n",
      "17000:\tlearn: 0.0066676\ttest: 0.0485698\tbest: 0.0485574 (16856)\ttotal: 5m 42s\tremaining: 11m 5s\n",
      "18000:\tlearn: 0.0063261\ttest: 0.0483755\tbest: 0.0483755 (18000)\ttotal: 5m 58s\tremaining: 10m 37s\n",
      "19000:\tlearn: 0.0060318\ttest: 0.0481185\tbest: 0.0481185 (19000)\ttotal: 6m 14s\tremaining: 10m 10s\n",
      "20000:\tlearn: 0.0057591\ttest: 0.0480152\tbest: 0.0479358 (19580)\ttotal: 6m 34s\tremaining: 9m 51s\n",
      "21000:\tlearn: 0.0055141\ttest: 0.0478905\tbest: 0.0478400 (20680)\ttotal: 6m 54s\tremaining: 9m 32s\n",
      "22000:\tlearn: 0.0052959\ttest: 0.0477725\tbest: 0.0477683 (21502)\ttotal: 7m 11s\tremaining: 9m 9s\n",
      "23000:\tlearn: 0.0051019\ttest: 0.0478324\tbest: 0.0477531 (22313)\ttotal: 7m 26s\tremaining: 8m 44s\n",
      "Stopped by overfitting detector  (1000 iterations wait)\n",
      "\n",
      "bestTest = 0.04775313339\n",
      "bestIteration = 22313\n",
      "\n",
      "Shrink model to first 22314 iterations.\n",
      "0.9787539559536635\n",
      "\n",
      "\n",
      "1\n",
      "0:\tlearn: 0.6536881\ttest: 0.6537576\tbest: 0.6537576 (0)\ttotal: 17.7ms\tremaining: 14m 43s\n",
      "1000:\tlearn: 0.1296292\ttest: 0.1574713\tbest: 0.1574713 (1000)\ttotal: 19.5s\tremaining: 15m 53s\n",
      "2000:\tlearn: 0.0732066\ttest: 0.1078145\tbest: 0.1078145 (2000)\ttotal: 37s\tremaining: 14m 48s\n",
      "3000:\tlearn: 0.0484919\ttest: 0.0854693\tbest: 0.0854693 (3000)\ttotal: 52.8s\tremaining: 13m 47s\n",
      "4000:\tlearn: 0.0348446\ttest: 0.0727209\tbest: 0.0727152 (3998)\ttotal: 1m 8s\tremaining: 13m 4s\n",
      "5000:\tlearn: 0.0266733\ttest: 0.0658623\tbest: 0.0658595 (4999)\ttotal: 1m 23s\tremaining: 12m 31s\n",
      "6000:\tlearn: 0.0211953\ttest: 0.0609358\tbest: 0.0609229 (5996)\ttotal: 1m 38s\tremaining: 12m 5s\n",
      "7000:\tlearn: 0.0175293\ttest: 0.0578928\tbest: 0.0578551 (6990)\ttotal: 1m 54s\tremaining: 11m 42s\n",
      "8000:\tlearn: 0.0148682\ttest: 0.0556902\tbest: 0.0556895 (7999)\ttotal: 2m 10s\tremaining: 11m 26s\n",
      "9000:\tlearn: 0.0129469\ttest: 0.0545083\tbest: 0.0544839 (8995)\ttotal: 2m 26s\tremaining: 11m 6s\n",
      "10000:\tlearn: 0.0114896\ttest: 0.0536946\tbest: 0.0536847 (9995)\ttotal: 2m 42s\tremaining: 10m 49s\n",
      "11000:\tlearn: 0.0103245\ttest: 0.0529583\tbest: 0.0529552 (10998)\ttotal: 2m 57s\tremaining: 10m 30s\n",
      "12000:\tlearn: 0.0093912\ttest: 0.0523834\tbest: 0.0523299 (11951)\ttotal: 3m 12s\tremaining: 10m 10s\n",
      "13000:\tlearn: 0.0086402\ttest: 0.0520661\tbest: 0.0520459 (12988)\ttotal: 3m 27s\tremaining: 9m 51s\n",
      "14000:\tlearn: 0.0079859\ttest: 0.0515715\tbest: 0.0515510 (13986)\ttotal: 3m 43s\tremaining: 9m 35s\n",
      "15000:\tlearn: 0.0074446\ttest: 0.0513528\tbest: 0.0513520 (14806)\ttotal: 3m 59s\tremaining: 9m 18s\n",
      "16000:\tlearn: 0.0069943\ttest: 0.0513007\tbest: 0.0512451 (15663)\ttotal: 4m 14s\tremaining: 9m\n",
      "17000:\tlearn: 0.0066064\ttest: 0.0509987\tbest: 0.0509786 (16973)\ttotal: 4m 29s\tremaining: 8m 43s\n",
      "18000:\tlearn: 0.0062598\ttest: 0.0509073\tbest: 0.0508619 (17941)\ttotal: 4m 45s\tremaining: 8m 27s\n",
      "19000:\tlearn: 0.0059769\ttest: 0.0507963\tbest: 0.0507453 (18912)\ttotal: 5m 1s\tremaining: 8m 12s\n",
      "20000:\tlearn: 0.0057134\ttest: 0.0506929\tbest: 0.0506482 (19829)\ttotal: 5m 19s\tremaining: 7m 58s\n",
      "21000:\tlearn: 0.0054802\ttest: 0.0505843\tbest: 0.0505815 (20993)\ttotal: 5m 34s\tremaining: 7m 42s\n",
      "22000:\tlearn: 0.0052700\ttest: 0.0506690\tbest: 0.0505702 (21013)\ttotal: 5m 49s\tremaining: 7m 25s\n",
      "Stopped by overfitting detector  (1000 iterations wait)\n",
      "\n",
      "bestTest = 0.0505701542\n",
      "bestIteration = 21013\n",
      "\n",
      "Shrink model to first 21014 iterations.\n",
      "0.9623917675986134\n",
      "\n",
      "\n",
      "2\n",
      "0:\tlearn: 0.6563926\ttest: 0.6576340\tbest: 0.6576340 (0)\ttotal: 20.3ms\tremaining: 16m 52s\n",
      "1000:\tlearn: 0.1264147\ttest: 0.1716569\tbest: 0.1716569 (1000)\ttotal: 15.9s\tremaining: 12m 57s\n",
      "2000:\tlearn: 0.0712545\ttest: 0.1183357\tbest: 0.1183357 (2000)\ttotal: 32.1s\tremaining: 12m 48s\n",
      "3000:\tlearn: 0.0473654\ttest: 0.0938522\tbest: 0.0938522 (3000)\ttotal: 48s\tremaining: 12m 31s\n",
      "4000:\tlearn: 0.0343718\ttest: 0.0801530\tbest: 0.0801530 (4000)\ttotal: 1m 3s\tremaining: 12m 12s\n",
      "5000:\tlearn: 0.0262123\ttest: 0.0721755\tbest: 0.0721755 (5000)\ttotal: 1m 19s\tremaining: 11m 55s\n",
      "6000:\tlearn: 0.0210357\ttest: 0.0674254\tbest: 0.0674254 (6000)\ttotal: 1m 35s\tremaining: 11m 39s\n",
      "7000:\tlearn: 0.0173656\ttest: 0.0642619\tbest: 0.0642619 (7000)\ttotal: 1m 50s\tremaining: 11m 21s\n",
      "8000:\tlearn: 0.0148689\ttest: 0.0625218\tbest: 0.0625161 (7998)\ttotal: 2m 6s\tremaining: 11m 4s\n",
      "9000:\tlearn: 0.0129947\ttest: 0.0611749\tbest: 0.0611676 (8984)\ttotal: 2m 22s\tremaining: 10m 47s\n",
      "10000:\tlearn: 0.0114718\ttest: 0.0600431\tbest: 0.0600175 (9983)\ttotal: 2m 38s\tremaining: 10m 32s\n",
      "11000:\tlearn: 0.0102720\ttest: 0.0595436\tbest: 0.0595349 (10872)\ttotal: 2m 53s\tremaining: 10m 16s\n",
      "12000:\tlearn: 0.0093361\ttest: 0.0591250\tbest: 0.0591093 (11992)\ttotal: 3m 9s\tremaining: 10m\n",
      "13000:\tlearn: 0.0086103\ttest: 0.0586628\tbest: 0.0586438 (12979)\ttotal: 3m 25s\tremaining: 9m 43s\n",
      "14000:\tlearn: 0.0079976\ttest: 0.0584051\tbest: 0.0584051 (14000)\ttotal: 3m 40s\tremaining: 9m 26s\n",
      "15000:\tlearn: 0.0074664\ttest: 0.0580241\tbest: 0.0580239 (14999)\ttotal: 3m 55s\tremaining: 9m 10s\n",
      "16000:\tlearn: 0.0069897\ttest: 0.0578675\tbest: 0.0578587 (15811)\ttotal: 4m 11s\tremaining: 8m 53s\n",
      "17000:\tlearn: 0.0065812\ttest: 0.0576690\tbest: 0.0576332 (16983)\ttotal: 4m 26s\tremaining: 8m 38s\n",
      "18000:\tlearn: 0.0062431\ttest: 0.0576029\tbest: 0.0574912 (17495)\ttotal: 4m 42s\tremaining: 8m 22s\n",
      "Stopped by overfitting detector  (1000 iterations wait)\n",
      "\n",
      "bestTest = 0.05749122684\n",
      "bestIteration = 17495\n",
      "\n",
      "Shrink model to first 17496 iterations.\n",
      "0.9657289459526088\n",
      "\n",
      "\n",
      "3\n",
      "0:\tlearn: 0.6619313\ttest: 0.6621898\tbest: 0.6621898 (0)\ttotal: 15.8ms\tremaining: 13m 9s\n",
      "1000:\tlearn: 0.1275037\ttest: 0.1750800\tbest: 0.1750800 (1000)\ttotal: 15s\tremaining: 12m 13s\n",
      "2000:\tlearn: 0.0721085\ttest: 0.1220184\tbest: 0.1220184 (2000)\ttotal: 30.3s\tremaining: 12m 7s\n",
      "3000:\tlearn: 0.0477361\ttest: 0.0976785\tbest: 0.0976785 (3000)\ttotal: 45.9s\tremaining: 11m 59s\n",
      "4000:\tlearn: 0.0343490\ttest: 0.0843035\tbest: 0.0843035 (4000)\ttotal: 1m 1s\tremaining: 11m 44s\n",
      "5000:\tlearn: 0.0262997\ttest: 0.0767161\tbest: 0.0767089 (4999)\ttotal: 1m 16s\tremaining: 11m 30s\n",
      "6000:\tlearn: 0.0211070\ttest: 0.0717404\tbest: 0.0717289 (5999)\ttotal: 1m 32s\tremaining: 11m 17s\n",
      "7000:\tlearn: 0.0174771\ttest: 0.0689035\tbest: 0.0688981 (6999)\ttotal: 1m 48s\tremaining: 11m 3s\n",
      "8000:\tlearn: 0.0147876\ttest: 0.0664299\tbest: 0.0664240 (7990)\ttotal: 2m 3s\tremaining: 10m 49s\n",
      "9000:\tlearn: 0.0129390\ttest: 0.0653078\tbest: 0.0653078 (9000)\ttotal: 2m 19s\tremaining: 10m 33s\n",
      "10000:\tlearn: 0.0114565\ttest: 0.0644311\tbest: 0.0643980 (9970)\ttotal: 2m 34s\tremaining: 10m 18s\n",
      "11000:\tlearn: 0.0103287\ttest: 0.0638073\tbest: 0.0637895 (10946)\ttotal: 2m 50s\tremaining: 10m 2s\n",
      "12000:\tlearn: 0.0093899\ttest: 0.0634056\tbest: 0.0633698 (11920)\ttotal: 3m 5s\tremaining: 9m 47s\n",
      "13000:\tlearn: 0.0086300\ttest: 0.0627858\tbest: 0.0627628 (12909)\ttotal: 3m 21s\tremaining: 9m 32s\n",
      "14000:\tlearn: 0.0079794\ttest: 0.0626677\tbest: 0.0626677 (14000)\ttotal: 3m 36s\tremaining: 9m 17s\n",
      "15000:\tlearn: 0.0074532\ttest: 0.0624373\tbest: 0.0624346 (14997)\ttotal: 3m 52s\tremaining: 9m 2s\n"
     ]
    },
    {
     "name": "stdout",
     "output_type": "stream",
     "text": [
      "16000:\tlearn: 0.0069913\ttest: 0.0622280\tbest: 0.0621796 (15929)\ttotal: 4m 7s\tremaining: 8m 46s\n",
      "Stopped by overfitting detector  (1000 iterations wait)\n",
      "\n",
      "bestTest = 0.06217957179\n",
      "bestIteration = 15929\n",
      "\n",
      "Shrink model to first 15930 iterations.\n",
      "0.9656045112478888\n",
      "\n",
      "\n",
      "4\n",
      "0:\tlearn: 0.6594786\ttest: 0.6597750\tbest: 0.6597750 (0)\ttotal: 15.6ms\tremaining: 12m 58s\n",
      "1000:\tlearn: 0.1283534\ttest: 0.1599292\tbest: 0.1599292 (1000)\ttotal: 15.9s\tremaining: 12m 56s\n",
      "2000:\tlearn: 0.0733215\ttest: 0.1131501\tbest: 0.1131501 (2000)\ttotal: 31.3s\tremaining: 12m 31s\n",
      "3000:\tlearn: 0.0490573\ttest: 0.0925637\tbest: 0.0925637 (3000)\ttotal: 46.6s\tremaining: 12m 9s\n",
      "4000:\tlearn: 0.0357215\ttest: 0.0817825\tbest: 0.0817462 (3997)\ttotal: 1m 2s\tremaining: 11m 52s\n",
      "5000:\tlearn: 0.0273864\ttest: 0.0755779\tbest: 0.0755605 (4982)\ttotal: 1m 17s\tremaining: 11m 38s\n",
      "6000:\tlearn: 0.0217951\ttest: 0.0712227\tbest: 0.0712227 (6000)\ttotal: 1m 33s\tremaining: 11m 22s\n",
      "7000:\tlearn: 0.0180316\ttest: 0.0695913\tbest: 0.0695829 (6944)\ttotal: 1m 48s\tremaining: 11m 6s\n",
      "8000:\tlearn: 0.0152999\ttest: 0.0678631\tbest: 0.0678598 (7999)\ttotal: 2m 4s\tremaining: 10m 51s\n",
      "9000:\tlearn: 0.0132853\ttest: 0.0674341\tbest: 0.0673961 (8865)\ttotal: 2m 19s\tremaining: 10m 35s\n",
      "10000:\tlearn: 0.0116965\ttest: 0.0667138\tbest: 0.0667102 (9998)\ttotal: 2m 34s\tremaining: 10m 18s\n",
      "11000:\tlearn: 0.0104659\ttest: 0.0659890\tbest: 0.0659834 (10997)\ttotal: 2m 50s\tremaining: 10m 4s\n",
      "12000:\tlearn: 0.0095023\ttest: 0.0655464\tbest: 0.0654452 (11907)\ttotal: 3m 6s\tremaining: 9m 49s\n",
      "13000:\tlearn: 0.0087108\ttest: 0.0655101\tbest: 0.0653327 (12584)\ttotal: 3m 21s\tremaining: 9m 33s\n",
      "14000:\tlearn: 0.0080784\ttest: 0.0650811\tbest: 0.0650466 (13876)\ttotal: 3m 36s\tremaining: 9m 17s\n",
      "Stopped by overfitting detector  (1000 iterations wait)\n",
      "\n",
      "bestTest = 0.06504655445\n",
      "bestIteration = 13876\n",
      "\n",
      "Shrink model to first 13877 iterations.\n",
      "0.9639020916727334\n",
      "\n",
      "\n",
      "5\n",
      "0:\tlearn: 0.6573936\ttest: 0.6583336\tbest: 0.6583336 (0)\ttotal: 15.9ms\tremaining: 13m 13s\n",
      "1000:\tlearn: 0.1304770\ttest: 0.1658929\tbest: 0.1658929 (1000)\ttotal: 15.5s\tremaining: 12m 40s\n",
      "2000:\tlearn: 0.0728598\ttest: 0.1133858\tbest: 0.1133858 (2000)\ttotal: 31.1s\tremaining: 12m 26s\n",
      "3000:\tlearn: 0.0479899\ttest: 0.0885735\tbest: 0.0885735 (3000)\ttotal: 46.5s\tremaining: 12m 7s\n",
      "4000:\tlearn: 0.0347504\ttest: 0.0763242\tbest: 0.0763065 (3996)\ttotal: 1m 1s\tremaining: 11m 51s\n",
      "5000:\tlearn: 0.0264452\ttest: 0.0685606\tbest: 0.0685606 (5000)\ttotal: 1m 17s\tremaining: 11m 37s\n",
      "6000:\tlearn: 0.0209825\ttest: 0.0631398\tbest: 0.0631214 (5996)\ttotal: 1m 33s\tremaining: 11m 23s\n",
      "7000:\tlearn: 0.0170969\ttest: 0.0598904\tbest: 0.0598809 (6990)\ttotal: 1m 48s\tremaining: 11m 7s\n",
      "8000:\tlearn: 0.0144198\ttest: 0.0582160\tbest: 0.0582137 (7994)\ttotal: 2m 4s\tremaining: 10m 52s\n",
      "9000:\tlearn: 0.0123010\ttest: 0.0565910\tbest: 0.0565910 (9000)\ttotal: 2m 20s\tremaining: 10m 37s\n",
      "10000:\tlearn: 0.0106639\ttest: 0.0555703\tbest: 0.0555689 (9998)\ttotal: 2m 35s\tremaining: 10m 23s\n",
      "11000:\tlearn: 0.0094060\ttest: 0.0547310\tbest: 0.0547276 (10998)\ttotal: 2m 51s\tremaining: 10m 8s\n",
      "12000:\tlearn: 0.0083637\ttest: 0.0543913\tbest: 0.0543793 (11528)\ttotal: 3m 7s\tremaining: 9m 52s\n",
      "13000:\tlearn: 0.0075001\ttest: 0.0539632\tbest: 0.0539594 (12999)\ttotal: 3m 23s\tremaining: 9m 38s\n",
      "14000:\tlearn: 0.0067890\ttest: 0.0535897\tbest: 0.0535897 (14000)\ttotal: 3m 38s\tremaining: 9m 22s\n",
      "15000:\tlearn: 0.0061865\ttest: 0.0534333\tbest: 0.0534093 (14971)\ttotal: 3m 54s\tremaining: 9m 7s\n",
      "16000:\tlearn: 0.0056797\ttest: 0.0531663\tbest: 0.0530639 (15696)\ttotal: 4m 10s\tremaining: 8m 52s\n",
      "17000:\tlearn: 0.0052445\ttest: 0.0531611\tbest: 0.0529989 (16425)\ttotal: 4m 26s\tremaining: 8m 36s\n",
      "Stopped by overfitting detector  (1000 iterations wait)\n",
      "\n",
      "bestTest = 0.05299893897\n",
      "bestIteration = 16425\n",
      "\n",
      "Shrink model to first 16426 iterations.\n",
      "0.9770654098928451\n",
      "\n",
      "\n",
      "6\n",
      "0:\tlearn: 0.6559953\ttest: 0.6568719\tbest: 0.6568719 (0)\ttotal: 16.2ms\tremaining: 13m 29s\n",
      "1000:\tlearn: 0.1297482\ttest: 0.1806363\tbest: 0.1806363 (1000)\ttotal: 15.2s\tremaining: 12m 24s\n",
      "2000:\tlearn: 0.0730268\ttest: 0.1299166\tbest: 0.1299166 (2000)\ttotal: 30.7s\tremaining: 12m 17s\n",
      "3000:\tlearn: 0.0479656\ttest: 0.1075108\tbest: 0.1075108 (3000)\ttotal: 46.4s\tremaining: 12m 7s\n",
      "4000:\tlearn: 0.0345586\ttest: 0.0965236\tbest: 0.0964951 (3995)\ttotal: 1m 3s\tremaining: 12m 6s\n",
      "5000:\tlearn: 0.0262838\ttest: 0.0894699\tbest: 0.0894699 (5000)\ttotal: 1m 21s\tremaining: 12m 10s\n",
      "6000:\tlearn: 0.0209399\ttest: 0.0860617\tbest: 0.0860478 (5999)\ttotal: 1m 36s\tremaining: 11m 49s\n",
      "7000:\tlearn: 0.0171476\ttest: 0.0836914\tbest: 0.0835602 (6944)\ttotal: 1m 52s\tremaining: 11m 30s\n",
      "8000:\tlearn: 0.0145464\ttest: 0.0824716\tbest: 0.0824531 (7996)\ttotal: 2m 8s\tremaining: 11m 12s\n",
      "9000:\tlearn: 0.0124784\ttest: 0.0820741\tbest: 0.0819137 (8894)\ttotal: 2m 23s\tremaining: 10m 54s\n",
      "10000:\tlearn: 0.0109854\ttest: 0.0812694\tbest: 0.0811872 (9860)\ttotal: 2m 39s\tremaining: 10m 38s\n",
      "Stopped by overfitting detector  (1000 iterations wait)\n",
      "\n",
      "bestTest = 0.08118717763\n",
      "bestIteration = 9860\n",
      "\n",
      "Shrink model to first 9861 iterations.\n",
      "0.9558798300385549\n",
      "\n",
      "\n",
      "7\n",
      "0:\tlearn: 0.6554221\ttest: 0.6568578\tbest: 0.6568578 (0)\ttotal: 17.1ms\tremaining: 14m 17s\n",
      "1000:\tlearn: 0.1290275\ttest: 0.1870560\tbest: 0.1870560 (1000)\ttotal: 15.5s\tremaining: 12m 38s\n",
      "2000:\tlearn: 0.0723628\ttest: 0.1326413\tbest: 0.1326354 (1999)\ttotal: 30.8s\tremaining: 12m 19s\n",
      "3000:\tlearn: 0.0477042\ttest: 0.1072787\tbest: 0.1072787 (3000)\ttotal: 46.2s\tremaining: 12m 4s\n",
      "4000:\tlearn: 0.0344416\ttest: 0.0945064\tbest: 0.0944928 (3997)\ttotal: 1m 1s\tremaining: 11m 51s\n",
      "5000:\tlearn: 0.0264700\ttest: 0.0870656\tbest: 0.0870276 (4993)\ttotal: 1m 17s\tremaining: 11m 40s\n",
      "6000:\tlearn: 0.0209956\ttest: 0.0821790\tbest: 0.0821790 (6000)\ttotal: 1m 33s\tremaining: 11m 26s\n",
      "7000:\tlearn: 0.0171996\ttest: 0.0788812\tbest: 0.0788812 (7000)\ttotal: 1m 49s\tremaining: 11m 11s\n",
      "8000:\tlearn: 0.0145096\ttest: 0.0764745\tbest: 0.0764597 (7951)\ttotal: 2m 5s\tremaining: 10m 56s\n",
      "9000:\tlearn: 0.0125301\ttest: 0.0756052\tbest: 0.0755992 (8982)\ttotal: 2m 21s\tremaining: 10m 42s\n",
      "10000:\tlearn: 0.0110330\ttest: 0.0750146\tbest: 0.0749667 (9957)\ttotal: 2m 36s\tremaining: 10m 27s\n",
      "11000:\tlearn: 0.0097952\ttest: 0.0745141\tbest: 0.0745028 (10996)\ttotal: 2m 52s\tremaining: 10m 10s\n",
      "12000:\tlearn: 0.0088176\ttest: 0.0740110\tbest: 0.0739781 (11974)\ttotal: 3m 7s\tremaining: 9m 54s\n",
      "13000:\tlearn: 0.0080174\ttest: 0.0738703\tbest: 0.0738287 (12805)\ttotal: 3m 23s\tremaining: 9m 40s\n",
      "14000:\tlearn: 0.0073844\ttest: 0.0737422\tbest: 0.0737192 (13979)\ttotal: 3m 39s\tremaining: 9m 24s\n",
      "15000:\tlearn: 0.0068255\ttest: 0.0736663\tbest: 0.0735944 (14937)\ttotal: 3m 56s\tremaining: 9m 12s\n",
      "Stopped by overfitting detector  (1000 iterations wait)\n",
      "\n",
      "bestTest = 0.07359438242\n",
      "bestIteration = 14937\n",
      "\n",
      "Shrink model to first 14938 iterations.\n",
      "0.9737623400914193\n",
      "\n",
      "\n",
      "8\n",
      "0:\tlearn: 0.6592737\ttest: 0.6602758\tbest: 0.6602758 (0)\ttotal: 15.9ms\tremaining: 13m 15s\n",
      "1000:\tlearn: 0.1279765\ttest: 0.1671528\tbest: 0.1671528 (1000)\ttotal: 14.9s\tremaining: 12m 10s\n",
      "2000:\tlearn: 0.0723475\ttest: 0.1165769\tbest: 0.1165769 (2000)\ttotal: 30.4s\tremaining: 12m 10s\n",
      "3000:\tlearn: 0.0480255\ttest: 0.0942107\tbest: 0.0942028 (2994)\ttotal: 45.8s\tremaining: 11m 57s\n",
      "4000:\tlearn: 0.0348962\ttest: 0.0819308\tbest: 0.0819308 (4000)\ttotal: 1m 1s\tremaining: 11m 44s\n",
      "5000:\tlearn: 0.0265325\ttest: 0.0738580\tbest: 0.0738510 (4996)\ttotal: 1m 16s\tremaining: 11m 28s\n",
      "6000:\tlearn: 0.0210676\ttest: 0.0690099\tbest: 0.0690099 (6000)\ttotal: 1m 33s\tremaining: 11m 28s\n",
      "7000:\tlearn: 0.0174647\ttest: 0.0658670\tbest: 0.0658552 (6998)\ttotal: 1m 53s\tremaining: 11m 40s\n",
      "8000:\tlearn: 0.0148917\ttest: 0.0638011\tbest: 0.0638011 (8000)\ttotal: 2m 19s\tremaining: 12m 12s\n",
      "9000:\tlearn: 0.0128561\ttest: 0.0621034\tbest: 0.0621009 (8999)\ttotal: 2m 35s\tremaining: 11m 47s\n",
      "10000:\tlearn: 0.0113666\ttest: 0.0614900\tbest: 0.0613785 (9953)\ttotal: 2m 50s\tremaining: 11m 22s\n",
      "11000:\tlearn: 0.0102176\ttest: 0.0610508\tbest: 0.0610181 (10990)\ttotal: 3m 6s\tremaining: 11m\n",
      "12000:\tlearn: 0.0093086\ttest: 0.0604232\tbest: 0.0603872 (11984)\ttotal: 3m 25s\tremaining: 10m 49s\n",
      "13000:\tlearn: 0.0085422\ttest: 0.0597805\tbest: 0.0597736 (12987)\ttotal: 3m 44s\tremaining: 10m 38s\n",
      "14000:\tlearn: 0.0079466\ttest: 0.0594501\tbest: 0.0593698 (13885)\ttotal: 4m 8s\tremaining: 10m 38s\n",
      "Stopped by overfitting detector  (1000 iterations wait)\n",
      "\n",
      "bestTest = 0.05936977305\n",
      "bestIteration = 13885\n",
      "\n",
      "Shrink model to first 13886 iterations.\n",
      "0.9639741843375644\n",
      "\n",
      "\n",
      "9\n",
      "0:\tlearn: 0.6663552\ttest: 0.6658422\tbest: 0.6658422 (0)\ttotal: 11.5ms\tremaining: 9m 37s\n"
     ]
    },
    {
     "name": "stdout",
     "output_type": "stream",
     "text": [
      "1000:\tlearn: 0.1284477\ttest: 0.1623986\tbest: 0.1623986 (1000)\ttotal: 18.5s\tremaining: 15m 3s\n",
      "2000:\tlearn: 0.0736246\ttest: 0.1168252\tbest: 0.1168252 (2000)\ttotal: 36.7s\tremaining: 14m 40s\n",
      "3000:\tlearn: 0.0487356\ttest: 0.0969177\tbest: 0.0969177 (3000)\ttotal: 57.2s\tremaining: 14m 56s\n",
      "4000:\tlearn: 0.0352537\ttest: 0.0857681\tbest: 0.0857424 (3991)\ttotal: 1m 18s\tremaining: 15m\n",
      "5000:\tlearn: 0.0268551\ttest: 0.0796695\tbest: 0.0796695 (5000)\ttotal: 1m 40s\tremaining: 15m 7s\n",
      "6000:\tlearn: 0.0214796\ttest: 0.0760047\tbest: 0.0760047 (6000)\ttotal: 1m 59s\tremaining: 14m 33s\n",
      "7000:\tlearn: 0.0177337\ttest: 0.0730107\tbest: 0.0730022 (6999)\ttotal: 2m 16s\tremaining: 13m 58s\n",
      "8000:\tlearn: 0.0149956\ttest: 0.0716625\tbest: 0.0715891 (7887)\ttotal: 2m 32s\tremaining: 13m 22s\n",
      "9000:\tlearn: 0.0130415\ttest: 0.0701734\tbest: 0.0700922 (8973)\ttotal: 2m 49s\tremaining: 12m 50s\n",
      "10000:\tlearn: 0.0114830\ttest: 0.0698163\tbest: 0.0697663 (9763)\ttotal: 3m 5s\tremaining: 12m 21s\n",
      "11000:\tlearn: 0.0103067\ttest: 0.0692977\tbest: 0.0692042 (10771)\ttotal: 3m 21s\tremaining: 11m 55s\n",
      "12000:\tlearn: 0.0093741\ttest: 0.0690941\tbest: 0.0690251 (11988)\ttotal: 3m 37s\tremaining: 11m 29s\n",
      "13000:\tlearn: 0.0085743\ttest: 0.0688661\tbest: 0.0687913 (12796)\ttotal: 3m 53s\tremaining: 11m 5s\n",
      "Stopped by overfitting detector  (1000 iterations wait)\n",
      "\n",
      "bestTest = 0.06879126405\n",
      "bestIteration = 12796\n",
      "\n",
      "Shrink model to first 12797 iterations.\n",
      "0.9710065641489661\n",
      "\n",
      "\n",
      "10\n",
      "0:\tlearn: 0.6565603\ttest: 0.6569219\tbest: 0.6569219 (0)\ttotal: 18.6ms\tremaining: 15m 31s\n",
      "1000:\tlearn: 0.1270326\ttest: 0.1728025\tbest: 0.1728025 (1000)\ttotal: 16.5s\tremaining: 13m 28s\n",
      "2000:\tlearn: 0.0715596\ttest: 0.1265743\tbest: 0.1265743 (2000)\ttotal: 33s\tremaining: 13m 10s\n",
      "3000:\tlearn: 0.0472067\ttest: 0.1062797\tbest: 0.1062797 (3000)\ttotal: 49.1s\tremaining: 12m 48s\n",
      "4000:\tlearn: 0.0340054\ttest: 0.0961592\tbest: 0.0961473 (3991)\ttotal: 1m 5s\tremaining: 12m 28s\n",
      "5000:\tlearn: 0.0261124\ttest: 0.0899731\tbest: 0.0899572 (4991)\ttotal: 1m 21s\tremaining: 12m 12s\n",
      "6000:\tlearn: 0.0209341\ttest: 0.0866131\tbest: 0.0866131 (6000)\ttotal: 1m 38s\tremaining: 12m 5s\n",
      "7000:\tlearn: 0.0172974\ttest: 0.0850705\tbest: 0.0850400 (6997)\ttotal: 1m 55s\tremaining: 11m 47s\n",
      "8000:\tlearn: 0.0147534\ttest: 0.0835903\tbest: 0.0835903 (8000)\ttotal: 2m 11s\tremaining: 11m 28s\n",
      "9000:\tlearn: 0.0128218\ttest: 0.0829632\tbest: 0.0827958 (8911)\ttotal: 2m 27s\tremaining: 11m 11s\n",
      "10000:\tlearn: 0.0113570\ttest: 0.0825458\tbest: 0.0825159 (9994)\ttotal: 2m 43s\tremaining: 10m 52s\n",
      "11000:\tlearn: 0.0102198\ttest: 0.0825289\tbest: 0.0824000 (10832)\ttotal: 2m 59s\tremaining: 10m 35s\n",
      "Stopped by overfitting detector  (1000 iterations wait)\n",
      "\n",
      "bestTest = 0.08240000547\n",
      "bestIteration = 10832\n",
      "\n",
      "Shrink model to first 10833 iterations.\n",
      "0.9594223559656998\n",
      "\n",
      "\n",
      "11\n",
      "0:\tlearn: 0.6577771\ttest: 0.6581308\tbest: 0.6581308 (0)\ttotal: 24.8ms\tremaining: 20m 37s\n",
      "1000:\tlearn: 0.1280589\ttest: 0.1700689\tbest: 0.1700689 (1000)\ttotal: 16.8s\tremaining: 13m 41s\n",
      "2000:\tlearn: 0.0713672\ttest: 0.1216665\tbest: 0.1216665 (2000)\ttotal: 32.4s\tremaining: 12m 58s\n",
      "3000:\tlearn: 0.0468782\ttest: 0.0996714\tbest: 0.0996512 (2999)\ttotal: 48.5s\tremaining: 12m 39s\n",
      "4000:\tlearn: 0.0335649\ttest: 0.0871215\tbest: 0.0871099 (3998)\ttotal: 1m 4s\tremaining: 12m 20s\n",
      "5000:\tlearn: 0.0254851\ttest: 0.0806591\tbest: 0.0806591 (5000)\ttotal: 1m 20s\tremaining: 12m 1s\n",
      "6000:\tlearn: 0.0202593\ttest: 0.0771058\tbest: 0.0770638 (5992)\ttotal: 1m 36s\tremaining: 11m 44s\n",
      "7000:\tlearn: 0.0166238\ttest: 0.0746255\tbest: 0.0746255 (7000)\ttotal: 1m 52s\tremaining: 11m 28s\n",
      "8000:\tlearn: 0.0140260\ttest: 0.0730957\tbest: 0.0730743 (7985)\ttotal: 2m 7s\tremaining: 11m 9s\n",
      "9000:\tlearn: 0.0120951\ttest: 0.0722225\tbest: 0.0721785 (8889)\ttotal: 2m 23s\tremaining: 10m 52s\n",
      "10000:\tlearn: 0.0105925\ttest: 0.0714242\tbest: 0.0713634 (9972)\ttotal: 2m 39s\tremaining: 10m 38s\n",
      "11000:\tlearn: 0.0094252\ttest: 0.0711914\tbest: 0.0711357 (10917)\ttotal: 2m 55s\tremaining: 10m 23s\n",
      "12000:\tlearn: 0.0085219\ttest: 0.0711144\tbest: 0.0710914 (11637)\ttotal: 3m 11s\tremaining: 10m 5s\n",
      "13000:\tlearn: 0.0077635\ttest: 0.0711266\tbest: 0.0709773 (12570)\ttotal: 3m 27s\tremaining: 9m 49s\n",
      "Stopped by overfitting detector  (1000 iterations wait)\n",
      "\n",
      "bestTest = 0.07097729227\n",
      "bestIteration = 12570\n",
      "\n",
      "Shrink model to first 12571 iterations.\n",
      "0.9705365238066093\n",
      "\n",
      "\n",
      "12\n",
      "0:\tlearn: 0.6599414\ttest: 0.6597238\tbest: 0.6597238 (0)\ttotal: 19.4ms\tremaining: 16m 11s\n",
      "1000:\tlearn: 0.1302841\ttest: 0.1775150\tbest: 0.1775150 (1000)\ttotal: 15.7s\tremaining: 12m 46s\n",
      "2000:\tlearn: 0.0729415\ttest: 0.1177422\tbest: 0.1177422 (2000)\ttotal: 31.8s\tremaining: 12m 41s\n",
      "3000:\tlearn: 0.0485843\ttest: 0.0921207\tbest: 0.0921207 (3000)\ttotal: 47.4s\tremaining: 12m 22s\n",
      "4000:\tlearn: 0.0346525\ttest: 0.0779174\tbest: 0.0779174 (4000)\ttotal: 1m 3s\tremaining: 12m 6s\n",
      "5000:\tlearn: 0.0266274\ttest: 0.0699897\tbest: 0.0699897 (5000)\ttotal: 1m 19s\tremaining: 11m 52s\n",
      "6000:\tlearn: 0.0211736\ttest: 0.0648584\tbest: 0.0648584 (6000)\ttotal: 1m 34s\tremaining: 11m 34s\n",
      "7000:\tlearn: 0.0175800\ttest: 0.0616733\tbest: 0.0616712 (6998)\ttotal: 1m 50s\tremaining: 11m 18s\n",
      "8000:\tlearn: 0.0149645\ttest: 0.0593430\tbest: 0.0593272 (7990)\ttotal: 2m 6s\tremaining: 11m 2s\n",
      "9000:\tlearn: 0.0130605\ttest: 0.0579677\tbest: 0.0579126 (8937)\ttotal: 2m 22s\tremaining: 10m 46s\n",
      "10000:\tlearn: 0.0115841\ttest: 0.0567497\tbest: 0.0567306 (9973)\ttotal: 2m 41s\tremaining: 10m 43s\n",
      "11000:\tlearn: 0.0104120\ttest: 0.0556231\tbest: 0.0555927 (10976)\ttotal: 2m 58s\tremaining: 10m 32s\n",
      "12000:\tlearn: 0.0094690\ttest: 0.0550250\tbest: 0.0548991 (11852)\ttotal: 3m 15s\tremaining: 10m 18s\n",
      "13000:\tlearn: 0.0087087\ttest: 0.0544158\tbest: 0.0544139 (12970)\ttotal: 3m 32s\tremaining: 10m 4s\n",
      "14000:\tlearn: 0.0080652\ttest: 0.0539946\tbest: 0.0539932 (13999)\ttotal: 3m 48s\tremaining: 9m 47s\n",
      "15000:\tlearn: 0.0075086\ttest: 0.0536541\tbest: 0.0536004 (14987)\ttotal: 4m 4s\tremaining: 9m 30s\n",
      "16000:\tlearn: 0.0070606\ttest: 0.0533637\tbest: 0.0533138 (15977)\ttotal: 4m 20s\tremaining: 9m 13s\n",
      "17000:\tlearn: 0.0066651\ttest: 0.0530759\tbest: 0.0530636 (16888)\ttotal: 4m 36s\tremaining: 8m 56s\n",
      "18000:\tlearn: 0.0063351\ttest: 0.0528070\tbest: 0.0528004 (17996)\ttotal: 4m 51s\tremaining: 8m 38s\n",
      "19000:\tlearn: 0.0060201\ttest: 0.0524412\tbest: 0.0524184 (18896)\ttotal: 5m 8s\tremaining: 8m 24s\n",
      "20000:\tlearn: 0.0057405\ttest: 0.0523302\tbest: 0.0522800 (19499)\ttotal: 5m 24s\tremaining: 8m 7s\n",
      "21000:\tlearn: 0.0055030\ttest: 0.0521153\tbest: 0.0520972 (20928)\ttotal: 5m 40s\tremaining: 7m 49s\n",
      "22000:\tlearn: 0.0052942\ttest: 0.0520655\tbest: 0.0520081 (21571)\ttotal: 5m 55s\tremaining: 7m 32s\n",
      "Stopped by overfitting detector  (1000 iterations wait)\n",
      "\n",
      "bestTest = 0.05200810462\n",
      "bestIteration = 21571\n",
      "\n",
      "Shrink model to first 21572 iterations.\n",
      "0.9770491803278689\n",
      "\n",
      "\n",
      "13\n",
      "0:\tlearn: 0.6611617\ttest: 0.6607580\tbest: 0.6607580 (0)\ttotal: 18.3ms\tremaining: 15m 13s\n",
      "1000:\tlearn: 0.1260703\ttest: 0.1540047\tbest: 0.1540047 (1000)\ttotal: 15.5s\tremaining: 12m 39s\n",
      "2000:\tlearn: 0.0719979\ttest: 0.1079559\tbest: 0.1079307 (1999)\ttotal: 31.2s\tremaining: 12m 28s\n",
      "3000:\tlearn: 0.0475709\ttest: 0.0857364\tbest: 0.0857054 (2999)\ttotal: 46.9s\tremaining: 12m 13s\n",
      "4000:\tlearn: 0.0343850\ttest: 0.0733383\tbest: 0.0733383 (4000)\ttotal: 1m 2s\tremaining: 11m 55s\n",
      "5000:\tlearn: 0.0262648\ttest: 0.0663757\tbest: 0.0663711 (4999)\ttotal: 1m 17s\tremaining: 11m 40s\n",
      "6000:\tlearn: 0.0210441\ttest: 0.0613543\tbest: 0.0613543 (6000)\ttotal: 1m 33s\tremaining: 11m 27s\n",
      "7000:\tlearn: 0.0174239\ttest: 0.0584426\tbest: 0.0584325 (6988)\ttotal: 1m 49s\tremaining: 11m 13s\n",
      "8000:\tlearn: 0.0148463\ttest: 0.0562422\tbest: 0.0561801 (7993)\ttotal: 2m 5s\tremaining: 10m 59s\n",
      "9000:\tlearn: 0.0129100\ttest: 0.0549750\tbest: 0.0549557 (8979)\ttotal: 2m 21s\tremaining: 10m 43s\n",
      "10000:\tlearn: 0.0114099\ttest: 0.0540483\tbest: 0.0540314 (9958)\ttotal: 2m 36s\tremaining: 10m 27s\n",
      "11000:\tlearn: 0.0102954\ttest: 0.0533232\tbest: 0.0533193 (10993)\ttotal: 2m 54s\tremaining: 10m 17s\n",
      "12000:\tlearn: 0.0093481\ttest: 0.0525739\tbest: 0.0525334 (11983)\ttotal: 3m 9s\tremaining: 10m\n",
      "13000:\tlearn: 0.0086085\ttest: 0.0523451\tbest: 0.0522496 (12906)\ttotal: 3m 25s\tremaining: 9m 43s\n",
      "14000:\tlearn: 0.0079873\ttest: 0.0518925\tbest: 0.0518561 (13820)\ttotal: 3m 41s\tremaining: 9m 28s\n",
      "15000:\tlearn: 0.0074637\ttest: 0.0515995\tbest: 0.0515779 (14939)\ttotal: 3m 56s\tremaining: 9m 12s\n",
      "16000:\tlearn: 0.0070187\ttest: 0.0513932\tbest: 0.0513880 (15991)\ttotal: 4m 12s\tremaining: 8m 56s\n",
      "17000:\tlearn: 0.0066324\ttest: 0.0512213\tbest: 0.0511909 (16620)\ttotal: 4m 28s\tremaining: 8m 40s\n"
     ]
    },
    {
     "name": "stdout",
     "output_type": "stream",
     "text": [
      "18000:\tlearn: 0.0063078\ttest: 0.0510877\tbest: 0.0510613 (17832)\ttotal: 4m 44s\tremaining: 8m 24s\n",
      "19000:\tlearn: 0.0060104\ttest: 0.0510548\tbest: 0.0510293 (18639)\ttotal: 4m 59s\tremaining: 8m 8s\n",
      "20000:\tlearn: 0.0057411\ttest: 0.0508496\tbest: 0.0508452 (19998)\ttotal: 5m 15s\tremaining: 7m 52s\n",
      "21000:\tlearn: 0.0054876\ttest: 0.0507291\tbest: 0.0506922 (20718)\ttotal: 5m 31s\tremaining: 7m 37s\n",
      "22000:\tlearn: 0.0052760\ttest: 0.0508194\tbest: 0.0506889 (21110)\ttotal: 5m 46s\tremaining: 7m 20s\n",
      "Stopped by overfitting detector  (1000 iterations wait)\n",
      "\n",
      "bestTest = 0.0506888666\n",
      "bestIteration = 21110\n",
      "\n",
      "Shrink model to first 21111 iterations.\n",
      "0.9658942353099498\n",
      "\n",
      "\n",
      "14\n",
      "0:\tlearn: 0.6544623\ttest: 0.6538671\tbest: 0.6538671 (0)\ttotal: 16.4ms\tremaining: 13m 40s\n",
      "1000:\tlearn: 0.1303509\ttest: 0.1674678\tbest: 0.1674678 (1000)\ttotal: 16.8s\tremaining: 13m 42s\n",
      "2000:\tlearn: 0.0734339\ttest: 0.1161209\tbest: 0.1161161 (1999)\ttotal: 32.5s\tremaining: 13m\n",
      "3000:\tlearn: 0.0485613\ttest: 0.0928523\tbest: 0.0928523 (3000)\ttotal: 48.4s\tremaining: 12m 37s\n",
      "4000:\tlearn: 0.0350614\ttest: 0.0805923\tbest: 0.0805878 (3997)\ttotal: 1m 4s\tremaining: 12m 20s\n",
      "5000:\tlearn: 0.0265660\ttest: 0.0728108\tbest: 0.0728108 (5000)\ttotal: 1m 20s\tremaining: 12m 3s\n",
      "6000:\tlearn: 0.0211218\ttest: 0.0677287\tbest: 0.0677287 (6000)\ttotal: 1m 36s\tremaining: 11m 45s\n",
      "7000:\tlearn: 0.0173326\ttest: 0.0643679\tbest: 0.0643679 (7000)\ttotal: 1m 52s\tremaining: 11m 29s\n",
      "8000:\tlearn: 0.0145830\ttest: 0.0622416\tbest: 0.0622416 (8000)\ttotal: 2m 8s\tremaining: 11m 12s\n",
      "9000:\tlearn: 0.0124671\ttest: 0.0608223\tbest: 0.0608183 (8994)\ttotal: 2m 24s\tremaining: 10m 56s\n",
      "10000:\tlearn: 0.0107929\ttest: 0.0596195\tbest: 0.0596195 (10000)\ttotal: 2m 39s\tremaining: 10m 39s\n",
      "11000:\tlearn: 0.0094748\ttest: 0.0587733\tbest: 0.0587197 (10955)\ttotal: 2m 55s\tremaining: 10m 22s\n",
      "12000:\tlearn: 0.0084364\ttest: 0.0578374\tbest: 0.0578286 (11996)\ttotal: 3m 11s\tremaining: 10m 6s\n",
      "13000:\tlearn: 0.0075853\ttest: 0.0573345\tbest: 0.0573269 (12998)\ttotal: 3m 27s\tremaining: 9m 49s\n",
      "14000:\tlearn: 0.0068680\ttest: 0.0569619\tbest: 0.0569403 (13554)\ttotal: 3m 42s\tremaining: 9m 33s\n",
      "15000:\tlearn: 0.0062575\ttest: 0.0566365\tbest: 0.0566341 (14988)\ttotal: 3m 58s\tremaining: 9m 17s\n",
      "16000:\tlearn: 0.0057339\ttest: 0.0565882\tbest: 0.0565416 (15619)\ttotal: 4m 14s\tremaining: 9m 1s\n",
      "17000:\tlearn: 0.0052706\ttest: 0.0564754\tbest: 0.0564180 (16711)\ttotal: 4m 30s\tremaining: 8m 44s\n",
      "18000:\tlearn: 0.0048846\ttest: 0.0562754\tbest: 0.0562507 (17979)\ttotal: 4m 46s\tremaining: 8m 28s\n",
      "19000:\tlearn: 0.0045438\ttest: 0.0563332\tbest: 0.0561969 (18243)\ttotal: 5m 1s\tremaining: 8m 12s\n",
      "Stopped by overfitting detector  (1000 iterations wait)\n",
      "\n",
      "bestTest = 0.05619692139\n",
      "bestIteration = 18243\n",
      "\n",
      "Shrink model to first 18244 iterations.\n",
      "0.9756301922843307\n",
      "\n",
      "\n"
     ]
    }
   ],
   "source": [
    "k1_list = []\n",
    "k2_list = []\n",
    "k3_list = []\n",
    "in_bag = []\n",
    "models2 = []\n",
    "\n",
    "for i in range(NN):\n",
    "    print(i)\n",
    "    k1 = random.randint(0,100000)\n",
    "    k1_list.append(k1)\n",
    "    train, val, y_train, y_val = train_test_split(np.array(sub_data_2),\n",
    "                                  np.array(y_sub_2),\n",
    "                                  test_size=0.05,\n",
    "                                  random_state=k1)\n",
    "    \n",
    "    k2 = random.randint(0,100000)\n",
    "    k2_list.append(k2)\n",
    "    train, test_df, y_train, y_test_df = train_test_split(train,\n",
    "                                  y_train,\n",
    "                                  test_size=0.05,\n",
    "                                  random_state=k2)\n",
    "        \n",
    "\n",
    "    #in_bag.append(train.index)\n",
    "\n",
    "\n",
    "\n",
    "    train_dataset = Pool(train,\n",
    "                         y_train)\n",
    "    \n",
    "    eval_dataset = Pool(test_df,\n",
    "                        y_test_df)\n",
    "    \n",
    "    k3 = random.randint(0,100000)\n",
    "    k3_list.append(k3)\n",
    "    model2 = CatBoostClassifier(custom_metric = ['TotalF1','Precision','Recall'],\n",
    "                               #eval_metric=CountErrors(),\n",
    "                               iterations = 50000,\n",
    "                               learning_rate = 0.1,\n",
    "                                random_seed=k3,\n",
    "                                loss_function='MultiClassOneVsAll',\n",
    "                               #class_weights=class_weight,\n",
    "                               verbose=1000)\n",
    "\n",
    "    model2.fit(train,\n",
    "              y_train,\n",
    "              eval_set=eval_dataset,\n",
    "              early_stopping_rounds=1000)    \n",
    "    models2.append(model2)\n",
    "\n",
    "    print(0.2*recall_score(y_val,model2.predict(val),average='weighted')+0.8*precision_score(y_val,model2.predict(val),average='weighted'))\n",
    "    print('\\n')\n",
    "    \n"
   ]
  },
  {
   "cell_type": "code",
   "execution_count": 36,
   "metadata": {},
   "outputs": [
    {
     "name": "stdout",
     "output_type": "stream",
     "text": [
      "[30589, 23467, 339, 79485, 6718, 43114, 31640, 12123, 19218, 62418, 87163, 52726, 21744, 7052, 26284] [52681, 45077, 26480, 20087, 82882, 72357, 65592, 554, 56748, 37986, 567, 62464, 42406, 90931, 11521] [74368, 72598, 908, 93128, 46752, 13083, 7104, 46357, 77765, 14167, 65224, 38489, 50140, 57681, 77083]\n"
     ]
    }
   ],
   "source": [
    "print(k1_list,k2_list,k3_list)"
   ]
  },
  {
   "cell_type": "code",
   "execution_count": 37,
   "metadata": {},
   "outputs": [
    {
     "data": {
      "text/plain": [
       "(array([18615.,     0.,     0., 17785.,     0.,     0., 23729.,     0.,\n",
       "            0., 24868.]),\n",
       " array([2. , 2.3, 2.6, 2.9, 3.2, 3.5, 3.8, 4.1, 4.4, 4.7, 5. ]),\n",
       " <BarContainer object of 10 artists>)"
      ]
     },
     "execution_count": 37,
     "metadata": {},
     "output_type": "execute_result"
    },
    {
     "data": {
      "image/png": "[encoded data removed]",
      "text/plain": [
       "<Figure size 864x720 with 1 Axes>"
      ]
     },
     "metadata": {
      "needs_background": "light"
     },
     "output_type": "display_data"
    }
   ],
   "source": [
    "y_pred_2 = []\n",
    "for i in range(len(models2)):\n",
    "    y_pred_2.append(models2[i].predict_proba(original_test))\n",
    "\n",
    "y_pred_2 = np.median(y_pred_2,axis=0)\n",
    "y_pred_c = np.argmax(np.squeeze(y_pred_2),axis=1)+2\n",
    "plt.hist(y_pred_c)"
   ]
  },
  {
   "cell_type": "code",
   "execution_count": 46,
   "metadata": {},
   "outputs": [],
   "source": [
    "for i in range(len(models2)):\n",
    "    models2[i].save_model(r'D:\\\\Champ2022\\\\Models\\\\Best\\\\2\\\\model_'+str(i))"
   ]
  },
  {
   "cell_type": "markdown",
   "metadata": {},
   "source": [
    "# CONCAT"
   ]
  },
  {
   "cell_type": "code",
   "execution_count": 39,
   "metadata": {},
   "outputs": [],
   "source": [
    "p_0 = []\n",
    "p_1 = []\n",
    "p_2 = []\n",
    "p_3 = []\n",
    "p_4 = []\n",
    "p_5 = []\n",
    "\n",
    "for i in range(original_test.shape[0]):\n",
    "    p_0.append(y_pred_0[i,0])\n",
    "    p_1.append(y_pred_0[i,1]*y_pred_1[i,0])\n",
    "    p_2.append(y_pred_0[i,1]*y_pred_1[i,1]*y_pred_2[i,0])\n",
    "    p_3.append(y_pred_0[i,1]*y_pred_1[i,1]*y_pred_2[i,1])\n",
    "    p_4.append(y_pred_0[i,1]*y_pred_1[i,1]*y_pred_2[i,2])\n",
    "    p_5.append(y_pred_0[i,1]*y_pred_1[i,1]*y_pred_2[i,3])"
   ]
  },
  {
   "cell_type": "code",
   "execution_count": 40,
   "metadata": {},
   "outputs": [
    {
     "data": {
      "text/plain": [
       "(array([75107.,     0.,  5244.,     0.,   642.,     0.,  1249.,     0.,\n",
       "         1394.,  1361.]),\n",
       " array([0. , 0.5, 1. , 1.5, 2. , 2.5, 3. , 3.5, 4. , 4.5, 5. ]),\n",
       " <BarContainer object of 10 artists>)"
      ]
     },
     "execution_count": 40,
     "metadata": {},
     "output_type": "execute_result"
    },
    {
     "data": {
      "image/png": "[encoded data removed]",
      "text/plain": [
       "<Figure size 864x720 with 1 Axes>"
      ]
     },
     "metadata": {
      "needs_background": "light"
     },
     "output_type": "display_data"
    }
   ],
   "source": [
    "y_predicted = pd.DataFrame({'0':p_0,\n",
    "                           '1':p_1,\n",
    "                           '2':p_2,\n",
    "                           '3':p_3,\n",
    "                           '4':p_4,\n",
    "                           '5':p_5})\n",
    "\n",
    "y_predicted = np.array(y_predicted)\n",
    "y_predicted = np.argmax(y_predicted,axis=1)\n",
    "plt.hist(y_predicted)"
   ]
  },
  {
   "cell_type": "code",
   "execution_count": 41,
   "metadata": {},
   "outputs": [],
   "source": [
    "solution = pd.read_csv(r'D:\\\\Champ2022\\\\sample_solution.csv')\n",
    "solution.iloc[:,1] = y_predicted\n",
    "\n",
    "solution.to_csv(r'D:\\\\Champ2022\\\\solution.csv', index=False)"
   ]
  }
 ],
 "metadata": {
  "colab": {
   "collapsed_sections": [],
   "name": "Netology Catboost Multiclassification Age 7",
   "provenance": []
  },
  "kernelspec": {
   "display_name": "Python 3",
   "language": "python",
   "name": "python3"
  },
  "language_info": {
   "codemirror_mode": {
    "name": "ipython",
    "version": 3
   },
   "file_extension": ".py",
   "mimetype": "text/x-python",
   "name": "python",
   "nbconvert_exporter": "python",
   "pygments_lexer": "ipython3",
   "version": "3.8.13"
  }
 },
 "nbformat": 4,
 "nbformat_minor": 1
}
